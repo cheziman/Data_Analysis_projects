{
 "cells": [
  {
   "cell_type": "markdown",
   "id": "576a2d40",
   "metadata": {},
   "source": [
    "# Introduction\n",
    "A marketing team of a large online store has compiled a list of hypotheses that may help boost revenue.\n",
    "\n",
    "## Project goal\n",
    "1. Prioritize the list of hypotheses\n",
    "2. Test the most urgent hypothesis\n",
    "3. Analyze results\n",
    "\n",
    "### Hypotheses list\n",
    "0. Add two new channels for attracting traffic. This will bring 30% more users.\n",
    "1. Launch your own delivery service. This will shorten delivery time.\n",
    "2. Add product recommendation blocks to the store's site. This will increase conversion and average purchase size.\n",
    "3. Change the category structure. This will increase conversion since users will find the products they want more quickly.\n",
    "4. Change the background color on the main page. This will increase user engagement.\n",
    "5. Add a customer review page. This will increase the number of orders.\n",
    "6. Show banners with current offers and sales on the main page. This will boost conversion.\n",
    "7. Add a subscription form to all the main pages. This will help you compile a mailing list.\n",
    "8. Launch a promotion that gives users discounts on their birthdays.\n",
    "\n",
    "\n"
   ]
  },
  {
   "cell_type": "markdown",
   "id": "63e7ea84",
   "metadata": {},
   "source": [
    "## Importing libraries and reading files"
   ]
  },
  {
   "cell_type": "code",
   "execution_count": 1,
   "id": "0ff4cb30",
   "metadata": {},
   "outputs": [],
   "source": [
    "#importing libraries\n",
    "import pandas as pd\n",
    "import numpy as np\n",
    "import seaborn as sns\n",
    "import matplotlib.pyplot as plt\n",
    "from scipy import stats as st"
   ]
  },
  {
   "cell_type": "code",
   "execution_count": 2,
   "id": "39cfac15",
   "metadata": {},
   "outputs": [],
   "source": [
    "#reading data files, defining date columns as date dtype\n",
    "hypotheses = pd.read_csv('hypotheses_us.csv', sep=';')\n",
    "orders = pd.read_csv('orders_us.csv', parse_dates = ['date'])\n",
    "visits = pd.read_csv('visits_us.csv', parse_dates = ['date'])"
   ]
  },
  {
   "cell_type": "markdown",
   "id": "45f4702a",
   "metadata": {},
   "source": [
    "# Prioritizing Hypotheses:\n",
    "There is little place for preprocessing on hypotheses table as it is very small.\n",
    "We will first choose a hypothesis to work with. then preprocess the rest of the data.\n",
    "\n",
    "**Hypotheses table** — contains all the hypotheses and their values.\n",
    "- **Columns:**\n",
    "    - `Hypotheses` — brief descriptions of the hypotheses.\n",
    "    - `Reach` — user reach, on a scale of one to ten.\n",
    "    - `Impact` — impact on users, on a scale of one to ten.\n",
    "    - `Confidence` — confidence in the hypothesis, on a scale of one to ten.\n",
    "    - `Effort` — the resources required to test a hypothesis, on a scale of one to ten. The higher the Effort value, the more resource-intensive the test."
   ]
  },
  {
   "cell_type": "markdown",
   "id": "cb4a673b",
   "metadata": {},
   "source": [
    "## Hypothesis table\n",
    "- Pre - preprocessing\n",
    "    - Lowering column cases to be easier to work with\n",
    "    - Forcing pandas to fully display `hypothesis` values by fitting as many as 200 characters in columns\n",
    "- Showing table"
   ]
  },
  {
   "cell_type": "code",
   "execution_count": 3,
   "id": "14ec54de",
   "metadata": {
    "scrolled": true
   },
   "outputs": [
    {
     "data": {
      "text/html": [
       "<div>\n",
       "<style scoped>\n",
       "    .dataframe tbody tr th:only-of-type {\n",
       "        vertical-align: middle;\n",
       "    }\n",
       "\n",
       "    .dataframe tbody tr th {\n",
       "        vertical-align: top;\n",
       "    }\n",
       "\n",
       "    .dataframe thead th {\n",
       "        text-align: right;\n",
       "    }\n",
       "</style>\n",
       "<table border=\"1\" class=\"dataframe\">\n",
       "  <thead>\n",
       "    <tr style=\"text-align: right;\">\n",
       "      <th></th>\n",
       "      <th>hypothesis</th>\n",
       "      <th>reach</th>\n",
       "      <th>impact</th>\n",
       "      <th>confidence</th>\n",
       "      <th>effort</th>\n",
       "    </tr>\n",
       "  </thead>\n",
       "  <tbody>\n",
       "    <tr>\n",
       "      <th>0</th>\n",
       "      <td>Add two new channels for attracting traffic. This will bring 30% more users</td>\n",
       "      <td>3</td>\n",
       "      <td>10</td>\n",
       "      <td>8</td>\n",
       "      <td>6</td>\n",
       "    </tr>\n",
       "    <tr>\n",
       "      <th>1</th>\n",
       "      <td>Launch your own delivery service. This will shorten delivery time</td>\n",
       "      <td>2</td>\n",
       "      <td>5</td>\n",
       "      <td>4</td>\n",
       "      <td>10</td>\n",
       "    </tr>\n",
       "    <tr>\n",
       "      <th>2</th>\n",
       "      <td>Add product recommendation blocks to the store's site. This will increase conversion and average purchase size</td>\n",
       "      <td>8</td>\n",
       "      <td>3</td>\n",
       "      <td>7</td>\n",
       "      <td>3</td>\n",
       "    </tr>\n",
       "    <tr>\n",
       "      <th>3</th>\n",
       "      <td>Change the category structure. This will increase conversion since users will find the products they want more quickly</td>\n",
       "      <td>8</td>\n",
       "      <td>3</td>\n",
       "      <td>3</td>\n",
       "      <td>8</td>\n",
       "    </tr>\n",
       "    <tr>\n",
       "      <th>4</th>\n",
       "      <td>Change the background color on the main page. This will increase user engagement</td>\n",
       "      <td>3</td>\n",
       "      <td>1</td>\n",
       "      <td>1</td>\n",
       "      <td>1</td>\n",
       "    </tr>\n",
       "    <tr>\n",
       "      <th>5</th>\n",
       "      <td>Add a customer review page. This will increase the number of orders</td>\n",
       "      <td>3</td>\n",
       "      <td>2</td>\n",
       "      <td>2</td>\n",
       "      <td>3</td>\n",
       "    </tr>\n",
       "    <tr>\n",
       "      <th>6</th>\n",
       "      <td>Show banners with current offers and sales on the main page. This will boost conversion</td>\n",
       "      <td>5</td>\n",
       "      <td>3</td>\n",
       "      <td>8</td>\n",
       "      <td>3</td>\n",
       "    </tr>\n",
       "    <tr>\n",
       "      <th>7</th>\n",
       "      <td>Add a subscription form to all the main pages. This will help you compile a mailing list</td>\n",
       "      <td>10</td>\n",
       "      <td>7</td>\n",
       "      <td>8</td>\n",
       "      <td>5</td>\n",
       "    </tr>\n",
       "    <tr>\n",
       "      <th>8</th>\n",
       "      <td>Launch a promotion that gives users discounts on their birthdays</td>\n",
       "      <td>1</td>\n",
       "      <td>9</td>\n",
       "      <td>9</td>\n",
       "      <td>5</td>\n",
       "    </tr>\n",
       "  </tbody>\n",
       "</table>\n",
       "</div>"
      ],
      "text/plain": [
       "                                                                                                               hypothesis  \\\n",
       "0                                             Add two new channels for attracting traffic. This will bring 30% more users   \n",
       "1                                                       Launch your own delivery service. This will shorten delivery time   \n",
       "2          Add product recommendation blocks to the store's site. This will increase conversion and average purchase size   \n",
       "3  Change the category structure. This will increase conversion since users will find the products they want more quickly   \n",
       "4                                        Change the background color on the main page. This will increase user engagement   \n",
       "5                                                     Add a customer review page. This will increase the number of orders   \n",
       "6                                 Show banners with current offers and sales on the main page. This will boost conversion   \n",
       "7                                Add a subscription form to all the main pages. This will help you compile a mailing list   \n",
       "8                                                        Launch a promotion that gives users discounts on their birthdays   \n",
       "\n",
       "   reach  impact  confidence  effort  \n",
       "0      3      10           8       6  \n",
       "1      2       5           4      10  \n",
       "2      8       3           7       3  \n",
       "3      8       3           3       8  \n",
       "4      3       1           1       1  \n",
       "5      3       2           2       3  \n",
       "6      5       3           8       3  \n",
       "7     10       7           8       5  \n",
       "8      1       9           9       5  "
      ]
     },
     "execution_count": 3,
     "metadata": {},
     "output_type": "execute_result"
    }
   ],
   "source": [
    "hypotheses.columns = hypotheses.columns.str.lower()  #Lowering column cases to be easier to work with\n",
    "\n",
    "pd.set_option('max_colwidth', 200) #Forcing pandas to display up to 200 characters in columns\n",
    "\n",
    "hypotheses"
   ]
  },
  {
   "cell_type": "markdown",
   "id": "6519315e",
   "metadata": {},
   "source": [
    "## Prioritizing hyptheses\n",
    "### ICE and RICE scoring\n",
    "\n",
    "- ***R***each — how many users will be reached\n",
    "- ———\n",
    "- ***I***mpact — how strong the impact will affect the users\n",
    "- ***C***onfidence — level of confidence in determining the other parameter scores.\n",
    "- ***E***ffort — level of effort to actually launch and test the hypethesis"
   ]
  },
  {
   "cell_type": "markdown",
   "id": "481ff25f",
   "metadata": {},
   "source": [
    "### Calculating ICE and RICE, with a twist\n",
    "In order to easily compare the two, RICE will be divided by 10 to match the ICE scale, Explanation:\n",
    "- In RICE we multiply 3 different scores in each other, and divide them by effort score. To a maximum score of 1000.\n",
    "    - Each score maximum value is 10,  (reach * impact * confidence, or 10*10*10 = 1000)\n",
    "        - Then we divide that score by Effort score, it's minimum is 1 so the maximum score is 1000 / 1 = 1000.\n",
    "- In ICE we multiply 2 different scores by each other, and divide them by effort score. To a maximum score of 100.\n",
    "    - Each score maximum value is 10,  (reach * impact * confidence, or 10*10 = 100)\n",
    "        - Then we divide that score by Effort score, it's minimum is 1 so the maximum score is 100 / 1 = 100.\n",
    "        \n",
    "**Therefore, for an easy comparison, RICE will be divided by 10 again. To match the scale of ICE.**"
   ]
  },
  {
   "cell_type": "code",
   "execution_count": 34,
   "id": "64cf16a2",
   "metadata": {},
   "outputs": [
    {
     "data": {
      "image/png": "[encoded data removed]",
      "text/plain": [
       "<Figure size 1152x720 with 1 Axes>"
      ]
     },
     "metadata": {
      "needs_background": "light"
     },
     "output_type": "display_data"
    },
    {
     "data": {
      "text/html": [
       "<div>\n",
       "<style scoped>\n",
       "    .dataframe tbody tr th:only-of-type {\n",
       "        vertical-align: middle;\n",
       "    }\n",
       "\n",
       "    .dataframe tbody tr th {\n",
       "        vertical-align: top;\n",
       "    }\n",
       "\n",
       "    .dataframe thead th {\n",
       "        text-align: right;\n",
       "    }\n",
       "</style>\n",
       "<table border=\"1\" class=\"dataframe\">\n",
       "  <thead>\n",
       "    <tr style=\"text-align: right;\">\n",
       "      <th></th>\n",
       "      <th>hypothesis</th>\n",
       "      <th>reach</th>\n",
       "      <th>impact</th>\n",
       "      <th>confidence</th>\n",
       "      <th>effort</th>\n",
       "      <th>ice</th>\n",
       "      <th>rice</th>\n",
       "      <th>rice_scaled</th>\n",
       "    </tr>\n",
       "  </thead>\n",
       "  <tbody>\n",
       "    <tr>\n",
       "      <th>0</th>\n",
       "      <td>Add two new channels for attracting traffic. This will bring 30% more users</td>\n",
       "      <td>3</td>\n",
       "      <td>10</td>\n",
       "      <td>8</td>\n",
       "      <td>6</td>\n",
       "      <td>13.33</td>\n",
       "      <td>40.0</td>\n",
       "      <td>4.00</td>\n",
       "    </tr>\n",
       "    <tr>\n",
       "      <th>1</th>\n",
       "      <td>Launch your own delivery service. This will shorten delivery time</td>\n",
       "      <td>2</td>\n",
       "      <td>5</td>\n",
       "      <td>4</td>\n",
       "      <td>10</td>\n",
       "      <td>2.00</td>\n",
       "      <td>4.0</td>\n",
       "      <td>0.40</td>\n",
       "    </tr>\n",
       "    <tr>\n",
       "      <th>2</th>\n",
       "      <td>Add product recommendation blocks to the store's site. This will increase conversion and average purchase size</td>\n",
       "      <td>8</td>\n",
       "      <td>3</td>\n",
       "      <td>7</td>\n",
       "      <td>3</td>\n",
       "      <td>7.00</td>\n",
       "      <td>56.0</td>\n",
       "      <td>5.60</td>\n",
       "    </tr>\n",
       "    <tr>\n",
       "      <th>3</th>\n",
       "      <td>Change the category structure. This will increase conversion since users will find the products they want more quickly</td>\n",
       "      <td>8</td>\n",
       "      <td>3</td>\n",
       "      <td>3</td>\n",
       "      <td>8</td>\n",
       "      <td>1.12</td>\n",
       "      <td>9.0</td>\n",
       "      <td>0.90</td>\n",
       "    </tr>\n",
       "    <tr>\n",
       "      <th>4</th>\n",
       "      <td>Change the background color on the main page. This will increase user engagement</td>\n",
       "      <td>3</td>\n",
       "      <td>1</td>\n",
       "      <td>1</td>\n",
       "      <td>1</td>\n",
       "      <td>1.00</td>\n",
       "      <td>3.0</td>\n",
       "      <td>0.30</td>\n",
       "    </tr>\n",
       "    <tr>\n",
       "      <th>5</th>\n",
       "      <td>Add a customer review page. This will increase the number of orders</td>\n",
       "      <td>3</td>\n",
       "      <td>2</td>\n",
       "      <td>2</td>\n",
       "      <td>3</td>\n",
       "      <td>1.33</td>\n",
       "      <td>4.0</td>\n",
       "      <td>0.40</td>\n",
       "    </tr>\n",
       "    <tr>\n",
       "      <th>6</th>\n",
       "      <td>Show banners with current offers and sales on the main page. This will boost conversion</td>\n",
       "      <td>5</td>\n",
       "      <td>3</td>\n",
       "      <td>8</td>\n",
       "      <td>3</td>\n",
       "      <td>8.00</td>\n",
       "      <td>40.0</td>\n",
       "      <td>4.00</td>\n",
       "    </tr>\n",
       "    <tr>\n",
       "      <th>7</th>\n",
       "      <td>Add a subscription form to all the main pages. This will help you compile a mailing list</td>\n",
       "      <td>10</td>\n",
       "      <td>7</td>\n",
       "      <td>8</td>\n",
       "      <td>5</td>\n",
       "      <td>11.20</td>\n",
       "      <td>112.0</td>\n",
       "      <td>11.20</td>\n",
       "    </tr>\n",
       "    <tr>\n",
       "      <th>8</th>\n",
       "      <td>Launch a promotion that gives users discounts on their birthdays</td>\n",
       "      <td>1</td>\n",
       "      <td>9</td>\n",
       "      <td>9</td>\n",
       "      <td>5</td>\n",
       "      <td>16.20</td>\n",
       "      <td>16.2</td>\n",
       "      <td>1.62</td>\n",
       "    </tr>\n",
       "  </tbody>\n",
       "</table>\n",
       "</div>"
      ],
      "text/plain": [
       "                                                                                                               hypothesis  \\\n",
       "0                                             Add two new channels for attracting traffic. This will bring 30% more users   \n",
       "1                                                       Launch your own delivery service. This will shorten delivery time   \n",
       "2          Add product recommendation blocks to the store's site. This will increase conversion and average purchase size   \n",
       "3  Change the category structure. This will increase conversion since users will find the products they want more quickly   \n",
       "4                                        Change the background color on the main page. This will increase user engagement   \n",
       "5                                                     Add a customer review page. This will increase the number of orders   \n",
       "6                                 Show banners with current offers and sales on the main page. This will boost conversion   \n",
       "7                                Add a subscription form to all the main pages. This will help you compile a mailing list   \n",
       "8                                                        Launch a promotion that gives users discounts on their birthdays   \n",
       "\n",
       "   reach  impact  confidence  effort    ice   rice  rice_scaled  \n",
       "0      3      10           8       6  13.33   40.0         4.00  \n",
       "1      2       5           4      10   2.00    4.0         0.40  \n",
       "2      8       3           7       3   7.00   56.0         5.60  \n",
       "3      8       3           3       8   1.12    9.0         0.90  \n",
       "4      3       1           1       1   1.00    3.0         0.30  \n",
       "5      3       2           2       3   1.33    4.0         0.40  \n",
       "6      5       3           8       3   8.00   40.0         4.00  \n",
       "7     10       7           8       5  11.20  112.0        11.20  \n",
       "8      1       9           9       5  16.20   16.2         1.62  "
      ]
     },
     "execution_count": 34,
     "metadata": {},
     "output_type": "execute_result"
    }
   ],
   "source": [
    "#calculating ICE:\n",
    "hypotheses['ice'] = ((hypotheses['impact'] * hypotheses['confidence']) / hypotheses['effort']).round(2)\n",
    "\n",
    "#calculating RICE:\n",
    "hypotheses['rice'] = (hypotheses['reach'] * hypotheses['impact'] * hypotheses['confidence']) / hypotheses['effort']\n",
    "\n",
    "#scaling RICE down:\n",
    "hypotheses['rice_scaled'] = hypotheses['rice'] /10\n",
    "\n",
    "scaledplot = hypotheses.sort_values('rice').plot(y=[\"rice_scaled\", \"ice\"], kind=\"barh\", figsize = (16, 10))\n",
    "plt.title('Hypotheses RICE / ICE priority\\n scaled to match (RICE /10)', size = 24)\n",
    "\n",
    "plt.xlabel('Score', size = 16)\n",
    "plt.ylabel('Hypothesis number', size = 16)\n",
    "plt.tick_params(axis = 'both', labelsize  = 20)\n",
    "for bar in scaledplot.patches:\n",
    "    plt.annotate(bar.get_width().round(2), (bar.get_width(), bar.get_y()),\n",
    "                 ha='left', va='bottom', size = 14, xytext=(0, 0), textcoords='offset points', fontweight = 'medium')\n",
    "plt.show()\n",
    "\n",
    "hypotheses"
   ]
  },
  {
   "cell_type": "markdown",
   "id": "0bfc997d",
   "metadata": {},
   "source": [
    "## Hypothesis 7 has the highest RICE score by far (112)\n",
    "### Hypothesis 7 — `Add a subscription form to all the main pages. This will help you compile a mailing list.`\n",
    "- This hypothesis has a RICE score of 112, double than the second highest hypothesis(56), and much higher than any other hypothesis suggested, and should be tested first.\n",
    "- The RICE and ICE ratings differ because in RICE there is also the reach factor thrown into the package, meaning one more multiplying number to our calculation (**R\\*I\\*C \\/ E** <--vs.--> **I\\*C \\/ E**). this also means sometimes the two methods will show different priority scores to the same hypothesis.<br>\n",
    "- The reach factor is important to tell how many users will be affected by the feature. Therefore it is best to stick with the RICE rating.\n"
   ]
  },
  {
   "cell_type": "markdown",
   "id": "81dd053e",
   "metadata": {},
   "source": [
    "# Inspecting and preprocessing the data:"
   ]
  },
  {
   "cell_type": "markdown",
   "id": "673f429a",
   "metadata": {},
   "source": [
    "## `orders`\n",
    "- This table shows information on the orders placed by visitors  during the month of August 2019.\n",
    "- It contains following columns:\n",
    "    - `transactionid` — order identifier.\n",
    "    - `visitorid` — identifier of the user who placed the order.\n",
    "    - `date` — of the order.\n",
    "    - `revenue` — from the order.\n",
    "    - `group` — the A/B test group that the user belongs to."
   ]
  },
  {
   "cell_type": "code",
   "execution_count": 5,
   "id": "3d7d2dbf",
   "metadata": {},
   "outputs": [
    {
     "name": "stdout",
     "output_type": "stream",
     "text": [
      "<class 'pandas.core.frame.DataFrame'>\n",
      "RangeIndex: 1197 entries, 0 to 1196\n",
      "Data columns (total 5 columns):\n",
      " #   Column         Non-Null Count  Dtype         \n",
      "---  ------         --------------  -----         \n",
      " 0   transactionId  1197 non-null   int64         \n",
      " 1   visitorId      1197 non-null   int64         \n",
      " 2   date           1197 non-null   datetime64[ns]\n",
      " 3   revenue        1197 non-null   float64       \n",
      " 4   group          1197 non-null   object        \n",
      "dtypes: datetime64[ns](1), float64(1), int64(2), object(1)\n",
      "memory usage: 46.9+ KB\n"
     ]
    }
   ],
   "source": [
    "orders.info()"
   ]
  },
  {
   "cell_type": "code",
   "execution_count": 6,
   "id": "7a7bc658",
   "metadata": {},
   "outputs": [
    {
     "data": {
      "text/html": [
       "<div>\n",
       "<style scoped>\n",
       "    .dataframe tbody tr th:only-of-type {\n",
       "        vertical-align: middle;\n",
       "    }\n",
       "\n",
       "    .dataframe tbody tr th {\n",
       "        vertical-align: top;\n",
       "    }\n",
       "\n",
       "    .dataframe thead th {\n",
       "        text-align: right;\n",
       "    }\n",
       "</style>\n",
       "<table border=\"1\" class=\"dataframe\">\n",
       "  <thead>\n",
       "    <tr style=\"text-align: right;\">\n",
       "      <th></th>\n",
       "      <th>transactionId</th>\n",
       "      <th>visitorId</th>\n",
       "      <th>revenue</th>\n",
       "    </tr>\n",
       "  </thead>\n",
       "  <tbody>\n",
       "    <tr>\n",
       "      <th>count</th>\n",
       "      <td>1.197000e+03</td>\n",
       "      <td>1.197000e+03</td>\n",
       "      <td>1197.000000</td>\n",
       "    </tr>\n",
       "    <tr>\n",
       "      <th>mean</th>\n",
       "      <td>2.155621e+09</td>\n",
       "      <td>2.165960e+09</td>\n",
       "      <td>131.491646</td>\n",
       "    </tr>\n",
       "    <tr>\n",
       "      <th>std</th>\n",
       "      <td>1.229085e+09</td>\n",
       "      <td>1.236014e+09</td>\n",
       "      <td>603.004729</td>\n",
       "    </tr>\n",
       "    <tr>\n",
       "      <th>min</th>\n",
       "      <td>1.062393e+06</td>\n",
       "      <td>5.114589e+06</td>\n",
       "      <td>5.000000</td>\n",
       "    </tr>\n",
       "    <tr>\n",
       "      <th>25%</th>\n",
       "      <td>1.166776e+09</td>\n",
       "      <td>1.111826e+09</td>\n",
       "      <td>20.800000</td>\n",
       "    </tr>\n",
       "    <tr>\n",
       "      <th>50%</th>\n",
       "      <td>2.145194e+09</td>\n",
       "      <td>2.217985e+09</td>\n",
       "      <td>50.200000</td>\n",
       "    </tr>\n",
       "    <tr>\n",
       "      <th>75%</th>\n",
       "      <td>3.237740e+09</td>\n",
       "      <td>3.177606e+09</td>\n",
       "      <td>130.400000</td>\n",
       "    </tr>\n",
       "    <tr>\n",
       "      <th>max</th>\n",
       "      <td>4.293856e+09</td>\n",
       "      <td>4.283872e+09</td>\n",
       "      <td>19920.400000</td>\n",
       "    </tr>\n",
       "  </tbody>\n",
       "</table>\n",
       "</div>"
      ],
      "text/plain": [
       "       transactionId     visitorId       revenue\n",
       "count   1.197000e+03  1.197000e+03   1197.000000\n",
       "mean    2.155621e+09  2.165960e+09    131.491646\n",
       "std     1.229085e+09  1.236014e+09    603.004729\n",
       "min     1.062393e+06  5.114589e+06      5.000000\n",
       "25%     1.166776e+09  1.111826e+09     20.800000\n",
       "50%     2.145194e+09  2.217985e+09     50.200000\n",
       "75%     3.237740e+09  3.177606e+09    130.400000\n",
       "max     4.293856e+09  4.283872e+09  19920.400000"
      ]
     },
     "execution_count": 6,
     "metadata": {},
     "output_type": "execute_result"
    }
   ],
   "source": [
    "orders.describe()"
   ]
  },
  {
   "cell_type": "code",
   "execution_count": 7,
   "id": "2f80b62d",
   "metadata": {},
   "outputs": [
    {
     "data": {
      "text/plain": [
       "transactionId    1197\n",
       "visitorId        1031\n",
       "date               31\n",
       "revenue           403\n",
       "group               2\n",
       "dtype: int64"
      ]
     },
     "execution_count": 7,
     "metadata": {},
     "output_type": "execute_result"
    }
   ],
   "source": [
    "orders.nunique()"
   ]
  },
  {
   "cell_type": "markdown",
   "id": "cabc1d16",
   "metadata": {},
   "source": [
    "## No duplicates and missing values"
   ]
  },
  {
   "cell_type": "code",
   "execution_count": 8,
   "id": "6653f1a0",
   "metadata": {},
   "outputs": [
    {
     "name": "stdout",
     "output_type": "stream",
     "text": [
      "Duplicates:\n"
     ]
    },
    {
     "data": {
      "text/plain": [
       "0"
      ]
     },
     "metadata": {},
     "output_type": "display_data"
    },
    {
     "name": "stdout",
     "output_type": "stream",
     "text": [
      "---------------\n",
      "Missing values:\n"
     ]
    },
    {
     "data": {
      "text/plain": [
       "transactionId    0\n",
       "visitorId        0\n",
       "date             0\n",
       "revenue          0\n",
       "group            0\n",
       "dtype: int64"
      ]
     },
     "metadata": {},
     "output_type": "display_data"
    }
   ],
   "source": [
    "print('Duplicates:')\n",
    "display(orders.duplicated().sum())\n",
    "\n",
    "print('---------------')\n",
    "print('Missing values:')\n",
    "display(orders.isnull().sum())"
   ]
  },
  {
   "cell_type": "markdown",
   "id": "861dc101",
   "metadata": {},
   "source": [
    "## remove higher case letters from the columns"
   ]
  },
  {
   "cell_type": "code",
   "execution_count": 9,
   "id": "983fb23c",
   "metadata": {},
   "outputs": [
    {
     "data": {
      "text/html": [
       "<div>\n",
       "<style scoped>\n",
       "    .dataframe tbody tr th:only-of-type {\n",
       "        vertical-align: middle;\n",
       "    }\n",
       "\n",
       "    .dataframe tbody tr th {\n",
       "        vertical-align: top;\n",
       "    }\n",
       "\n",
       "    .dataframe thead th {\n",
       "        text-align: right;\n",
       "    }\n",
       "</style>\n",
       "<table border=\"1\" class=\"dataframe\">\n",
       "  <thead>\n",
       "    <tr style=\"text-align: right;\">\n",
       "      <th></th>\n",
       "      <th>transactionid</th>\n",
       "      <th>visitorid</th>\n",
       "      <th>date</th>\n",
       "      <th>revenue</th>\n",
       "      <th>group</th>\n",
       "    </tr>\n",
       "  </thead>\n",
       "  <tbody>\n",
       "    <tr>\n",
       "      <th>1083</th>\n",
       "      <td>3870335394</td>\n",
       "      <td>1823887377</td>\n",
       "      <td>2019-08-12</td>\n",
       "      <td>20.0</td>\n",
       "      <td>A</td>\n",
       "    </tr>\n",
       "    <tr>\n",
       "      <th>381</th>\n",
       "      <td>3645205514</td>\n",
       "      <td>716514914</td>\n",
       "      <td>2019-08-25</td>\n",
       "      <td>5.8</td>\n",
       "      <td>B</td>\n",
       "    </tr>\n",
       "    <tr>\n",
       "      <th>658</th>\n",
       "      <td>1988035100</td>\n",
       "      <td>1016890234</td>\n",
       "      <td>2019-08-26</td>\n",
       "      <td>280.8</td>\n",
       "      <td>B</td>\n",
       "    </tr>\n",
       "  </tbody>\n",
       "</table>\n",
       "</div>"
      ],
      "text/plain": [
       "      transactionid   visitorid       date  revenue group\n",
       "1083     3870335394  1823887377 2019-08-12     20.0     A\n",
       "381      3645205514   716514914 2019-08-25      5.8     B\n",
       "658      1988035100  1016890234 2019-08-26    280.8     B"
      ]
     },
     "execution_count": 9,
     "metadata": {},
     "output_type": "execute_result"
    }
   ],
   "source": [
    "orders.columns = orders.columns.str.lower()\n",
    "orders.sample(3)"
   ]
  },
  {
   "cell_type": "markdown",
   "id": "68eb5216",
   "metadata": {},
   "source": [
    "## Orders have no duplicates or missing values, and dtypes are right\n",
    "**But** There are users on `visitorid` that are listed in both `groups` A and B!"
   ]
  },
  {
   "cell_type": "code",
   "execution_count": 10,
   "id": "ece462be",
   "metadata": {},
   "outputs": [
    {
     "name": "stdout",
     "output_type": "stream",
     "text": [
      "Group A has 503 unique users.\n",
      "Group B has 586 unique users.\n",
      "There are 58 users who are listed in both groups.\n",
      "This is 5.63% of the total users. (!!)\n"
     ]
    }
   ],
   "source": [
    "#defining unique users in group A and B, and comparing both groups to find users who are listed in both.\n",
    "a_users = orders[orders['group'] == 'A']['visitorid'].unique()\n",
    "b_users = orders[orders['group'] == 'B']['visitorid'].unique()\n",
    "naughty_users = [doubles for doubles in a_users if doubles in b_users]\n",
    "\n",
    "#showing some numbers:\n",
    "print(\n",
    "    'Group A has {} unique users.\\n'\n",
    "    'Group B has {} unique users.\\n'\n",
    "    'There are {} users who are listed in both groups.\\n'\n",
    "    'This is {:.2%} of the total users. (!!)'\n",
    "    .format(len(a_users), len(b_users), len(naughty_users), len(naughty_users) / orders['visitorid'].nunique()))"
   ]
  },
  {
   "cell_type": "markdown",
   "id": "f980f9a1",
   "metadata": {},
   "source": [
    "## To drop? or not to drop?  (spoiler - drop!)\n",
    "- There are 58 users listed in both the test group, and the control group, dropping these users is necessary because it distorts the testing results.\n",
    "- But dropping them from the `orders` table has issues we need to be aware of:\n",
    "    - It will probably leave their data in the `visits` table. And it is not possible with our dataset to find and remove the data of these users from the `visits` table.\n",
    "    - Therefore leaving their data in the `visits` table will slightly lower the conversion value.\n",
    "    \n",
    "**Since false hypothesis test is far worse than a slightly lower conversion value, these users will be removed from the `orders` table after all.**"
   ]
  },
  {
   "cell_type": "code",
   "execution_count": 11,
   "id": "046a3561",
   "metadata": {
    "scrolled": true
   },
   "outputs": [
    {
     "name": "stdout",
     "output_type": "stream",
     "text": [
      "There are 1197 rows in orders table before removing users who are listed in both groups.\n",
      "There are 1016 rows in orders table after removing users who are listed in both groups.\n"
     ]
    }
   ],
   "source": [
    "print('There are {} rows in orders table before removing users who are listed in both groups.'.format(len(orders)))\n",
    "\n",
    "#removing the double group users from the orders table:\n",
    "orders = orders[~orders['visitorid'].isin(naughty_users)]\n",
    "\n",
    "print('There are {} rows in orders table after removing users who are listed in both groups.'.format(len(orders)))"
   ]
  },
  {
   "cell_type": "markdown",
   "id": "9a29c957",
   "metadata": {},
   "source": [
    "## `visits`\n",
    "- This table shows information on how many visits each group had during the month of August 2019.\n",
    "- It contains the following columns\n",
    "    - `date` — date.\n",
    "    - `group` — A/B test group.\n",
    "    - `visits` — the number of visits on the date specified in the A/B test group specified."
   ]
  },
  {
   "cell_type": "code",
   "execution_count": 12,
   "id": "d5ba341c",
   "metadata": {},
   "outputs": [
    {
     "data": {
      "text/html": [
       "<div>\n",
       "<style scoped>\n",
       "    .dataframe tbody tr th:only-of-type {\n",
       "        vertical-align: middle;\n",
       "    }\n",
       "\n",
       "    .dataframe tbody tr th {\n",
       "        vertical-align: top;\n",
       "    }\n",
       "\n",
       "    .dataframe thead th {\n",
       "        text-align: right;\n",
       "    }\n",
       "</style>\n",
       "<table border=\"1\" class=\"dataframe\">\n",
       "  <thead>\n",
       "    <tr style=\"text-align: right;\">\n",
       "      <th></th>\n",
       "      <th>date</th>\n",
       "      <th>group</th>\n",
       "      <th>visits</th>\n",
       "    </tr>\n",
       "  </thead>\n",
       "  <tbody>\n",
       "    <tr>\n",
       "      <th>54</th>\n",
       "      <td>2019-08-24</td>\n",
       "      <td>B</td>\n",
       "      <td>378</td>\n",
       "    </tr>\n",
       "    <tr>\n",
       "      <th>5</th>\n",
       "      <td>2019-08-06</td>\n",
       "      <td>A</td>\n",
       "      <td>667</td>\n",
       "    </tr>\n",
       "    <tr>\n",
       "      <th>44</th>\n",
       "      <td>2019-08-14</td>\n",
       "      <td>B</td>\n",
       "      <td>746</td>\n",
       "    </tr>\n",
       "    <tr>\n",
       "      <th>55</th>\n",
       "      <td>2019-08-25</td>\n",
       "      <td>B</td>\n",
       "      <td>679</td>\n",
       "    </tr>\n",
       "    <tr>\n",
       "      <th>30</th>\n",
       "      <td>2019-08-31</td>\n",
       "      <td>A</td>\n",
       "      <td>699</td>\n",
       "    </tr>\n",
       "  </tbody>\n",
       "</table>\n",
       "</div>"
      ],
      "text/plain": [
       "         date group  visits\n",
       "54 2019-08-24     B     378\n",
       "5  2019-08-06     A     667\n",
       "44 2019-08-14     B     746\n",
       "55 2019-08-25     B     679\n",
       "30 2019-08-31     A     699"
      ]
     },
     "execution_count": 12,
     "metadata": {},
     "output_type": "execute_result"
    }
   ],
   "source": [
    "visits.sample(5)"
   ]
  },
  {
   "cell_type": "code",
   "execution_count": 13,
   "id": "4f7b6fd0",
   "metadata": {},
   "outputs": [
    {
     "name": "stdout",
     "output_type": "stream",
     "text": [
      "<class 'pandas.core.frame.DataFrame'>\n",
      "RangeIndex: 62 entries, 0 to 61\n",
      "Data columns (total 3 columns):\n",
      " #   Column  Non-Null Count  Dtype         \n",
      "---  ------  --------------  -----         \n",
      " 0   date    62 non-null     datetime64[ns]\n",
      " 1   group   62 non-null     object        \n",
      " 2   visits  62 non-null     int64         \n",
      "dtypes: datetime64[ns](1), int64(1), object(1)\n",
      "memory usage: 1.6+ KB\n"
     ]
    }
   ],
   "source": [
    "visits.info()"
   ]
  },
  {
   "cell_type": "code",
   "execution_count": 14,
   "id": "8b5c2e5f",
   "metadata": {},
   "outputs": [
    {
     "data": {
      "text/html": [
       "<div>\n",
       "<style scoped>\n",
       "    .dataframe tbody tr th:only-of-type {\n",
       "        vertical-align: middle;\n",
       "    }\n",
       "\n",
       "    .dataframe tbody tr th {\n",
       "        vertical-align: top;\n",
       "    }\n",
       "\n",
       "    .dataframe thead th {\n",
       "        text-align: right;\n",
       "    }\n",
       "</style>\n",
       "<table border=\"1\" class=\"dataframe\">\n",
       "  <thead>\n",
       "    <tr style=\"text-align: right;\">\n",
       "      <th></th>\n",
       "      <th>visits</th>\n",
       "    </tr>\n",
       "  </thead>\n",
       "  <tbody>\n",
       "    <tr>\n",
       "      <th>count</th>\n",
       "      <td>62.000000</td>\n",
       "    </tr>\n",
       "    <tr>\n",
       "      <th>mean</th>\n",
       "      <td>607.290323</td>\n",
       "    </tr>\n",
       "    <tr>\n",
       "      <th>std</th>\n",
       "      <td>114.400560</td>\n",
       "    </tr>\n",
       "    <tr>\n",
       "      <th>min</th>\n",
       "      <td>361.000000</td>\n",
       "    </tr>\n",
       "    <tr>\n",
       "      <th>25%</th>\n",
       "      <td>534.000000</td>\n",
       "    </tr>\n",
       "    <tr>\n",
       "      <th>50%</th>\n",
       "      <td>624.500000</td>\n",
       "    </tr>\n",
       "    <tr>\n",
       "      <th>75%</th>\n",
       "      <td>710.500000</td>\n",
       "    </tr>\n",
       "    <tr>\n",
       "      <th>max</th>\n",
       "      <td>770.000000</td>\n",
       "    </tr>\n",
       "  </tbody>\n",
       "</table>\n",
       "</div>"
      ],
      "text/plain": [
       "           visits\n",
       "count   62.000000\n",
       "mean   607.290323\n",
       "std    114.400560\n",
       "min    361.000000\n",
       "25%    534.000000\n",
       "50%    624.500000\n",
       "75%    710.500000\n",
       "max    770.000000"
      ]
     },
     "execution_count": 14,
     "metadata": {},
     "output_type": "execute_result"
    }
   ],
   "source": [
    "visits.describe()"
   ]
  },
  {
   "cell_type": "code",
   "execution_count": 15,
   "id": "57bc65d7",
   "metadata": {},
   "outputs": [
    {
     "data": {
      "text/plain": [
       "date      31\n",
       "group      2\n",
       "visits    58\n",
       "dtype: int64"
      ]
     },
     "execution_count": 15,
     "metadata": {},
     "output_type": "execute_result"
    }
   ],
   "source": [
    "visits.nunique()"
   ]
  },
  {
   "cell_type": "markdown",
   "id": "185ed5dd",
   "metadata": {},
   "source": [
    "## No duplicates or missing values"
   ]
  },
  {
   "cell_type": "code",
   "execution_count": 16,
   "id": "13d84231",
   "metadata": {},
   "outputs": [
    {
     "name": "stdout",
     "output_type": "stream",
     "text": [
      "Duplicates:\n"
     ]
    },
    {
     "data": {
      "text/plain": [
       "0"
      ]
     },
     "metadata": {},
     "output_type": "display_data"
    },
    {
     "name": "stdout",
     "output_type": "stream",
     "text": [
      "---------------\n",
      "Missing values:\n"
     ]
    },
    {
     "data": {
      "text/plain": [
       "date      0\n",
       "group     0\n",
       "visits    0\n",
       "dtype: int64"
      ]
     },
     "metadata": {},
     "output_type": "display_data"
    }
   ],
   "source": [
    "print('Duplicates:')\n",
    "display(visits.duplicated().sum())\n",
    "\n",
    "print('---------------')\n",
    "print('Missing values:')\n",
    "display(visits.isnull().sum())"
   ]
  },
  {
   "cell_type": "markdown",
   "id": "29412108",
   "metadata": {},
   "source": [
    "## Data inspecting and precprocessing summary:\n",
    "\n",
    "- The orders table column names changed to lower-case.\n",
    "- There were no missing values or duplicates in both orders and visits tables.\n",
    "- The orders table however had 58 visitor id's who were listed on both group A and B. These users were completely removed from the data.\n"
   ]
  },
  {
   "cell_type": "markdown",
   "id": "67e322e0",
   "metadata": {},
   "source": [
    "# A/B Testing\n",
    "## Hypothesis 7\n",
    "`Add a subscription form to all the main pages. <br>This will help you compile a mailing list.`"
   ]
  },
  {
   "cell_type": "code",
   "execution_count": 17,
   "id": "f944855c",
   "metadata": {},
   "outputs": [
    {
     "data": {
      "text/html": [
       "<div>\n",
       "<style scoped>\n",
       "    .dataframe tbody tr th:only-of-type {\n",
       "        vertical-align: middle;\n",
       "    }\n",
       "\n",
       "    .dataframe tbody tr th {\n",
       "        vertical-align: top;\n",
       "    }\n",
       "\n",
       "    .dataframe thead th {\n",
       "        text-align: right;\n",
       "    }\n",
       "</style>\n",
       "<table border=\"1\" class=\"dataframe\">\n",
       "  <thead>\n",
       "    <tr style=\"text-align: right;\">\n",
       "      <th></th>\n",
       "      <th>date</th>\n",
       "      <th>group</th>\n",
       "      <th>orders</th>\n",
       "      <th>buyers</th>\n",
       "      <th>revenue</th>\n",
       "      <th>visits</th>\n",
       "    </tr>\n",
       "  </thead>\n",
       "  <tbody>\n",
       "    <tr>\n",
       "      <th>0</th>\n",
       "      <td>2019-08-01</td>\n",
       "      <td>A</td>\n",
       "      <td>23</td>\n",
       "      <td>19</td>\n",
       "      <td>2266.6</td>\n",
       "      <td>719</td>\n",
       "    </tr>\n",
       "    <tr>\n",
       "      <th>1</th>\n",
       "      <td>2019-08-01</td>\n",
       "      <td>B</td>\n",
       "      <td>17</td>\n",
       "      <td>17</td>\n",
       "      <td>967.2</td>\n",
       "      <td>713</td>\n",
       "    </tr>\n",
       "    <tr>\n",
       "      <th>2</th>\n",
       "      <td>2019-08-02</td>\n",
       "      <td>A</td>\n",
       "      <td>42</td>\n",
       "      <td>36</td>\n",
       "      <td>3734.9</td>\n",
       "      <td>1338</td>\n",
       "    </tr>\n",
       "    <tr>\n",
       "      <th>3</th>\n",
       "      <td>2019-08-02</td>\n",
       "      <td>B</td>\n",
       "      <td>40</td>\n",
       "      <td>39</td>\n",
       "      <td>3535.3</td>\n",
       "      <td>1294</td>\n",
       "    </tr>\n",
       "    <tr>\n",
       "      <th>4</th>\n",
       "      <td>2019-08-03</td>\n",
       "      <td>A</td>\n",
       "      <td>66</td>\n",
       "      <td>60</td>\n",
       "      <td>5550.1</td>\n",
       "      <td>1845</td>\n",
       "    </tr>\n",
       "  </tbody>\n",
       "</table>\n",
       "</div>"
      ],
      "text/plain": [
       "        date group  orders  buyers  revenue  visits\n",
       "0 2019-08-01     A      23      19   2266.6     719\n",
       "1 2019-08-01     B      17      17    967.2     713\n",
       "2 2019-08-02     A      42      36   3734.9    1338\n",
       "3 2019-08-02     B      40      39   3535.3    1294\n",
       "4 2019-08-03     A      66      60   5550.1    1845"
      ]
     },
     "execution_count": 17,
     "metadata": {},
     "output_type": "execute_result"
    }
   ],
   "source": [
    "#get unique dates from orders:\n",
    "dates_group = orders[['date','group']].drop_duplicates()\n",
    "\n",
    "#create a table from matching or prior dates and matching groups, forming the different aggregations on it's columns:\n",
    "order_agg = dates_group.apply(lambda x: orders[np.logical_and(orders['date'] <= x['date'], orders['group'] == x['group'])]\n",
    "    .agg({'date' : 'max', 'group' : 'max', 'transactionid' : pd.Series.nunique, 'visitorid' : pd.Series.nunique,\n",
    "          'revenue' : 'sum'}), axis=1).sort_values(by=['date','group'])\n",
    "\n",
    "#doing the same with the visitors table:\n",
    "visit_agg = dates_group.apply(lambda x: visits[np.logical_and(visits['date'] <= x['date'], visits['group'] == x['group'])]\n",
    "            .agg({'date' : 'max', 'group' : 'max', 'visits' : 'sum'}), axis=1).sort_values(by=['date','group'])\n",
    "\n",
    "#merging the two tables:\n",
    "cum_df = order_agg.merge(visit_agg, left_on=['date', 'group'], right_on=['date', 'group'])\\\n",
    ".rename(columns = {'transactionid' : 'orders', 'visitorid' : 'buyers', 'visitors' : 'visits'})\n",
    "cum_df.head()"
   ]
  },
  {
   "cell_type": "markdown",
   "id": "4cc61076",
   "metadata": {},
   "source": [
    "## Cumulative revenue by group:"
   ]
  },
  {
   "cell_type": "code",
   "execution_count": 18,
   "id": "6a0d9a7b",
   "metadata": {},
   "outputs": [
    {
     "data": {
      "image/png": "[encoded data removed]",
      "text/plain": [
       "<Figure size 1080x576 with 1 Axes>"
      ]
     },
     "metadata": {
      "needs_background": "light"
     },
     "output_type": "display_data"
    }
   ],
   "source": [
    "plt.figure(figsize = (15, 8))\n",
    "sns.lineplot(data = cum_df, x = 'date', y = 'revenue', hue = 'group', linewidth = 5)\n",
    "plt.grid(alpha = 0.2, color = 'g')\n",
    "plt.title('Cumulative revenue by group', size = 22)\n",
    "plt.ylabel('Revenue', size = 18)\n",
    "plt.xlabel('date', size = 18)\n",
    "plt.legend()\n",
    "plt.tick_params(axis='both', which='major', labelsize=12)\n",
    "plt.xticks(cum_df['date'].unique(), rotation=45, ha = 'right')\n",
    "plt.show()"
   ]
  },
  {
   "cell_type": "markdown",
   "id": "7fafbabf",
   "metadata": {},
   "source": [
    "checking what happened on the Aug-19 that made such a big revenue to group B:"
   ]
  },
  {
   "cell_type": "code",
   "execution_count": 19,
   "id": "9e481f41",
   "metadata": {},
   "outputs": [
    {
     "data": {
      "image/png": "[encoded data removed]",
      "text/plain": [
       "<Figure size 1008x720 with 1 Axes>"
      ]
     },
     "metadata": {
      "needs_background": "light"
     },
     "output_type": "display_data"
    },
    {
     "data": {
      "text/html": [
       "<div>\n",
       "<style scoped>\n",
       "    .dataframe tbody tr th:only-of-type {\n",
       "        vertical-align: middle;\n",
       "    }\n",
       "\n",
       "    .dataframe tbody tr th {\n",
       "        vertical-align: top;\n",
       "    }\n",
       "\n",
       "    .dataframe thead th {\n",
       "        text-align: right;\n",
       "    }\n",
       "</style>\n",
       "<table border=\"1\" class=\"dataframe\">\n",
       "  <thead>\n",
       "    <tr style=\"text-align: right;\">\n",
       "      <th></th>\n",
       "      <th>transactionid</th>\n",
       "      <th>visitorid</th>\n",
       "      <th>date</th>\n",
       "      <th>revenue</th>\n",
       "      <th>group</th>\n",
       "    </tr>\n",
       "  </thead>\n",
       "  <tbody>\n",
       "    <tr>\n",
       "      <th>425</th>\n",
       "      <td>590470918</td>\n",
       "      <td>1920142716</td>\n",
       "      <td>2019-08-19</td>\n",
       "      <td>19920.4</td>\n",
       "      <td>B</td>\n",
       "    </tr>\n",
       "    <tr>\n",
       "      <th>530</th>\n",
       "      <td>3970235543</td>\n",
       "      <td>2912540959</td>\n",
       "      <td>2019-08-19</td>\n",
       "      <td>680.8</td>\n",
       "      <td>A</td>\n",
       "    </tr>\n",
       "    <tr>\n",
       "      <th>527</th>\n",
       "      <td>1570513684</td>\n",
       "      <td>2837914161</td>\n",
       "      <td>2019-08-19</td>\n",
       "      <td>515.9</td>\n",
       "      <td>B</td>\n",
       "    </tr>\n",
       "  </tbody>\n",
       "</table>\n",
       "</div>"
      ],
      "text/plain": [
       "     transactionid   visitorid       date  revenue group\n",
       "425      590470918  1920142716 2019-08-19  19920.4     B\n",
       "530     3970235543  2912540959 2019-08-19    680.8     A\n",
       "527     1570513684  2837914161 2019-08-19    515.9     B"
      ]
     },
     "execution_count": 19,
     "metadata": {},
     "output_type": "execute_result"
    }
   ],
   "source": [
    "#select all orders from August 19:\n",
    "aug19 = orders[orders['date'] == '2019-08-19']\n",
    "\n",
    "#drawing them as a scatterplot:\n",
    "plt.figure(figsize = (14, 10))\n",
    "sns.scatterplot(data = aug19, y = 'revenue', x = 'transactionid', hue = 'group', s = aug19['revenue'] / 3, zorder = 3,\n",
    "                                                                                                                alpha = 0.8)\n",
    "plt.ylim(-500, 23500)\n",
    "plt.grid(axis = 'y', alpha = 0.2, color = 'g')\n",
    "plt.text(0, 12000, \"Revenue median for that day: {:.2f}\".format(aug19['revenue'].median()), bbox = dict(facecolor = 'g',\n",
    "                                                                                                        alpha = 0.2), size = 18)\n",
    "plt.title('Transactions revenue on the 19-August', size = 22)\n",
    "plt.ylabel('Revenue size', size = 18)\n",
    "plt.xlabel('Transactions', size = 18)\n",
    "plt.legend()\n",
    "plt.tick_params(axis='both', which='major', labelsize=12)\n",
    "plt.show()\n",
    "\n",
    "#printing 3 largest revenues:\n",
    "aug19.sort_values('revenue', ascending = False).head(3)"
   ]
  },
  {
   "cell_type": "markdown",
   "id": "d933b740",
   "metadata": {},
   "source": [
    "###  Cumulative revenue by group conclusion:\n",
    "- The groups had similar revenue, until August 19 where group B has gotten a big adventage in revenue. the revenue since then kept a similar raise for both groups.\n",
    "- In August 19, the was one HUGE order of almost 20k (transactionid = 590470918), this explains the big jump in revenue for group B."
   ]
  },
  {
   "cell_type": "markdown",
   "id": "e802db9b",
   "metadata": {},
   "source": [
    "## Cumulative average order size by group:"
   ]
  },
  {
   "cell_type": "code",
   "execution_count": 20,
   "id": "d253d22a",
   "metadata": {},
   "outputs": [
    {
     "data": {
      "image/png": "[encoded data removed]",
      "text/plain": [
       "<Figure size 1080x576 with 1 Axes>"
      ]
     },
     "metadata": {
      "needs_background": "light"
     },
     "output_type": "display_data"
    }
   ],
   "source": [
    "plt.figure(figsize = (15, 8))\n",
    "sns.lineplot(data = cum_df, x = 'date', y = (cum_df['revenue'] / cum_df['orders']), hue = 'group', linewidth = 5)\n",
    "plt.grid(alpha = 0.2, color = 'g')\n",
    "plt.title('Cumulative average order size by group', size = 22)\n",
    "plt.ylabel('Average revenue', size = 18)\n",
    "plt.xlabel('date', size = 18)\n",
    "plt.legend()\n",
    "plt.tick_params(axis='both', which='major', labelsize=12)\n",
    "plt.xticks(cum_df['date'].unique(), rotation=45, ha = 'right')\n",
    "plt.show()"
   ]
  },
  {
   "cell_type": "markdown",
   "id": "21e9a88b",
   "metadata": {},
   "source": [
    "### Cumulative average order size by group conculusion:\n",
    "- Similar to the previous cumulative revenue graph, we can see the big rise in  Aug-19.\n",
    "- Group B had a better start until Aug-12, then B matched it and got a little better revenue in average, until Aug-19, and on.\n",
    "- We must keep in mind that without the 20k order group A is likely to have better revenues on average after Aug-12."
   ]
  },
  {
   "cell_type": "markdown",
   "id": "a70ab22b",
   "metadata": {},
   "source": [
    "## Relative difference in cumulative average order size for group B compared with group A"
   ]
  },
  {
   "cell_type": "code",
   "execution_count": 21,
   "id": "0bc5d243",
   "metadata": {},
   "outputs": [
    {
     "data": {
      "image/png": "[encoded data removed]",
      "text/plain": [
       "<Figure size 1080x576 with 1 Axes>"
      ]
     },
     "metadata": {
      "needs_background": "light"
     },
     "output_type": "display_data"
    }
   ],
   "source": [
    "#Creating a table merged from cumulative revenue and orders for each group:\n",
    "cum_a = cum_df[cum_df['group']=='A'][['date','revenue', 'orders']]\n",
    "cum_b = cum_df[cum_df['group']=='B'][['date','revenue', 'orders']]\n",
    "cum_ab = cum_a.merge(cum_b, left_on='date', right_on='date', how='left', suffixes=['A', 'B'])\n",
    "\n",
    "#drawing a graph with relative difference between B and A group purchase sizes:\n",
    "plt.figure(figsize = (15, 8))\n",
    "sns.lineplot(data = cum_ab, x = 'date', y = ((cum_ab['revenueB']/cum_ab['ordersB'])/(cum_ab['revenueA']/cum_ab['ordersA'])-1), linewidth = 5, color = 'indigo')\n",
    "plt.axhline(y=0, color='black', linestyle='--', linewidth = 8, alpha = 0.2)\n",
    "plt.grid(alpha = 0.2, color = 'g')\n",
    "plt.title('Relative difference in purchase size', size = 22)\n",
    "plt.ylabel('Difference', size = 18)\n",
    "plt.xlabel('date', size = 18)\n",
    "plt.tick_params(axis='both', which='major', labelsize=12)\n",
    "plt.xticks(cum_ab['date'].unique(), rotation=45, ha = 'right')\n",
    "plt.show()"
   ]
  },
  {
   "cell_type": "markdown",
   "id": "6dc69b1f",
   "metadata": {},
   "source": [
    "### Relative difference in cumulative average order size comclusions:\n",
    "- Just on the 4th day (Aug-04) we can see group B started to rise above A, falling back below group A only for a week, then there was that known huge purchase that raised group B back to top.\n",
    "- BUT without that outlier we would probably see group B declining below group A"
   ]
  },
  {
   "cell_type": "markdown",
   "id": "59f47305",
   "metadata": {},
   "source": [
    "##  Group conversion rate (the ratio of orders, to the number of visits for each day)"
   ]
  },
  {
   "cell_type": "code",
   "execution_count": 22,
   "id": "d5841edd",
   "metadata": {},
   "outputs": [
    {
     "data": {
      "image/png": "[encoded data removed]",
      "text/plain": [
       "<Figure size 1080x720 with 1 Axes>"
      ]
     },
     "metadata": {
      "needs_background": "light"
     },
     "output_type": "display_data"
    }
   ],
   "source": [
    "#calculating cumulative conversion rate:\n",
    "cum_df['conversion'] = cum_df['orders'] / cum_df['visits']\n",
    "\n",
    "#drawing lines:\n",
    "plt.figure(figsize = (15, 10))\n",
    "sns.lineplot(data = cum_df, x = 'date', y = 'conversion', linewidth = 5, hue = 'group')\n",
    "plt.grid(alpha = 0.2, color = 'g')\n",
    "plt.title('Group conversion rate (orders/visits)', size = 22)\n",
    "plt.ylabel('Conversion rate', size = 18)\n",
    "plt.xlabel('Date', size = 18)\n",
    "plt.tick_params(axis='both', which='major', labelsize=12)\n",
    "plt.xticks(cum_ab['date'].unique(), rotation=45, ha = 'right')\n",
    "plt.legend()\n",
    "plt.show()"
   ]
  },
  {
   "cell_type": "markdown",
   "id": "1cdfd093",
   "metadata": {},
   "source": [
    "###  Group conversion rate conclusions:\n",
    "- Group B started very low, it took about 10-13 days for matters to stabilize and we can see that group B has a bigger conversion rate since Aug-07 onwards.\n",
    "- It is worth to mention that there was a big positive spike in both groups conversion rates at Aug-02(B), and Aug-03(A). and then group B had a large fall at August-04. without these spikes, perhaps matters would stabilize much earlier."
   ]
  },
  {
   "cell_type": "markdown",
   "id": "b430e5e5",
   "metadata": {},
   "source": [
    "## scatter chart of the number of orders per user:"
   ]
  },
  {
   "cell_type": "code",
   "execution_count": 23,
   "id": "36011283",
   "metadata": {},
   "outputs": [
    {
     "data": {
      "text/html": [
       "<div>\n",
       "<style scoped>\n",
       "    .dataframe tbody tr th:only-of-type {\n",
       "        vertical-align: middle;\n",
       "    }\n",
       "\n",
       "    .dataframe tbody tr th {\n",
       "        vertical-align: top;\n",
       "    }\n",
       "\n",
       "    .dataframe thead th {\n",
       "        text-align: right;\n",
       "    }\n",
       "</style>\n",
       "<table border=\"1\" class=\"dataframe\">\n",
       "  <thead>\n",
       "    <tr style=\"text-align: right;\">\n",
       "      <th></th>\n",
       "      <th>visitorid</th>\n",
       "      <th>transactionid</th>\n",
       "    </tr>\n",
       "  </thead>\n",
       "  <tbody>\n",
       "    <tr>\n",
       "      <th>0</th>\n",
       "      <td>5114589</td>\n",
       "      <td>1</td>\n",
       "    </tr>\n",
       "    <tr>\n",
       "      <th>1</th>\n",
       "      <td>6958315</td>\n",
       "      <td>1</td>\n",
       "    </tr>\n",
       "    <tr>\n",
       "      <th>2</th>\n",
       "      <td>11685486</td>\n",
       "      <td>1</td>\n",
       "    </tr>\n",
       "    <tr>\n",
       "      <th>3</th>\n",
       "      <td>39475350</td>\n",
       "      <td>1</td>\n",
       "    </tr>\n",
       "    <tr>\n",
       "      <th>4</th>\n",
       "      <td>47206413</td>\n",
       "      <td>1</td>\n",
       "    </tr>\n",
       "    <tr>\n",
       "      <th>...</th>\n",
       "      <td>...</td>\n",
       "      <td>...</td>\n",
       "    </tr>\n",
       "    <tr>\n",
       "      <th>968</th>\n",
       "      <td>4259830713</td>\n",
       "      <td>1</td>\n",
       "    </tr>\n",
       "    <tr>\n",
       "      <th>969</th>\n",
       "      <td>4278982564</td>\n",
       "      <td>1</td>\n",
       "    </tr>\n",
       "    <tr>\n",
       "      <th>970</th>\n",
       "      <td>4279090005</td>\n",
       "      <td>1</td>\n",
       "    </tr>\n",
       "    <tr>\n",
       "      <th>971</th>\n",
       "      <td>4281247801</td>\n",
       "      <td>1</td>\n",
       "    </tr>\n",
       "    <tr>\n",
       "      <th>972</th>\n",
       "      <td>4283872382</td>\n",
       "      <td>1</td>\n",
       "    </tr>\n",
       "  </tbody>\n",
       "</table>\n",
       "<p>973 rows × 2 columns</p>\n",
       "</div>"
      ],
      "text/plain": [
       "      visitorid  transactionid\n",
       "0       5114589              1\n",
       "1       6958315              1\n",
       "2      11685486              1\n",
       "3      39475350              1\n",
       "4      47206413              1\n",
       "..          ...            ...\n",
       "968  4259830713              1\n",
       "969  4278982564              1\n",
       "970  4279090005              1\n",
       "971  4281247801              1\n",
       "972  4283872382              1\n",
       "\n",
       "[973 rows x 2 columns]"
      ]
     },
     "execution_count": 23,
     "metadata": {},
     "output_type": "execute_result"
    }
   ],
   "source": [
    "orders[['visitorid', 'transactionid']].groupby('visitorid', as_index=False).agg({'transactionid': pd.Series.nunique})"
   ]
  },
  {
   "cell_type": "code",
   "execution_count": 24,
   "id": "d08780af",
   "metadata": {},
   "outputs": [],
   "source": [
    "user_orders = orders.groupby(['visitorid', 'group'], as_index = False)['transactionid'].count().rename(\n",
    "                                                                                columns = {'transactionid' : 'orders'})"
   ]
  },
  {
   "cell_type": "code",
   "execution_count": 25,
   "id": "ac5128b3",
   "metadata": {},
   "outputs": [
    {
     "data": {
      "image/png": "[encoded data removed]",
      "text/plain": [
       "<Figure size 1080x720 with 1 Axes>"
      ]
     },
     "metadata": {
      "needs_background": "light"
     },
     "output_type": "display_data"
    }
   ],
   "source": [
    "#creating orders per user from counting unique transaction ids in groupby visitorid:\n",
    "user_orders = orders.groupby(['visitorid', 'group'], as_index = False)['transactionid'].count().rename(\n",
    "                                                                                        columns = {'transactionid' : 'orders'})\n",
    "\n",
    "#scattering some circles:\n",
    "plt.figure(figsize=(15,10))\n",
    "sns.scatterplot(data = user_orders, x = user_orders.index, y = 'orders', color = 'indigo', alpha = 0.5, hue = 'group', s = 150)\n",
    "plt.title('Number of orders per user', size = 22)\n",
    "plt.xlabel('Users', size = 18)\n",
    "plt.ylabel('Number of orders', size = 18)\n",
    "plt.yticks(np.arange(0, user_orders.orders.max() + 1, 1))\n",
    "plt.tick_params(axis='both', which='major', labelsize=12)\n",
    "plt.grid(axis = 'y', alpha = 0.4, color = 'b', ls = ':')\n",
    "\n",
    "\n",
    "#adding text info:\n",
    "plt.text(487, 2.85, '{:.2%} of users ({}), placed three orders.'\n",
    " .format(user_orders[user_orders['orders'] == 3]['orders'].count() / len(user_orders['visitorid']),\n",
    " user_orders[user_orders['orders'] == 3]['orders'].count()),\n",
    "         bbox = dict(facecolor = 'c', alpha = 0.1), size = 18, ha = 'center')\n",
    "\n",
    "plt.text(487, 1.85, '{:.2%} of users ({}), placed two orders.'\n",
    " .format(user_orders[user_orders['orders'] == 2]['orders'].count() / len(user_orders['visitorid']),\n",
    " user_orders[user_orders['orders'] == 2]['orders'].count()),\n",
    "         bbox = dict(facecolor = 'c', alpha = 0.1), size = 18, ha = 'center')\n",
    "\n",
    "plt.text(487, 0.85, '{:.2%} of users ({}), placed one order.'\n",
    " .format(user_orders[user_orders['orders'] == 1]['orders'].count() / len(user_orders['visitorid']),\n",
    " user_orders[user_orders['orders'] == 1]['orders'].count()), bbox = dict(facecolor = 'c',alpha = 0.1),size = 18, ha = 'center')\n",
    "\n",
    "plt.text(487, 0.35, 'Total number of users is: {}.\\n {:.2%} users placed more than one order.'.format(\n",
    "    len(user_orders['visitorid']),user_orders[user_orders['orders'] > 1]['orders'].count() / len(user_orders['visitorid'])),\n",
    "     bbox = dict(facecolor = 'b', alpha = 0.1), size = 18, ha = 'center')\n",
    "\n",
    "plt.show()"
   ]
  },
  {
   "cell_type": "markdown",
   "id": "fdc28bea",
   "metadata": {},
   "source": [
    "### scatter chart conclusions:\n",
    "- AS shown in the graph:\n",
    "    - only 3.7% of the users placed more than one order, or in revers: 96.3% only placed one order."
   ]
  },
  {
   "cell_type": "markdown",
   "id": "0a7115b9",
   "metadata": {},
   "source": [
    "## The 95th and 99th percentiles for the number of orders per user.\n",
    "Defining the point at which a data point becomes an anomaly."
   ]
  },
  {
   "cell_type": "code",
   "execution_count": 26,
   "id": "56301b56",
   "metadata": {},
   "outputs": [
    {
     "name": "stdout",
     "output_type": "stream",
     "text": [
      "[1. 1. 2. 2. 3.]\n"
     ]
    }
   ],
   "source": [
    "#finding percentage threshold for orders per user outliers:\n",
    "print(np.percentile(user_orders['orders'], [95, 96, 97, 99, 99.4])) "
   ]
  },
  {
   "cell_type": "markdown",
   "id": "ab98ce9e",
   "metadata": {},
   "source": [
    "### Any orders that are more 2 should be an anomally and removed.\n",
    "- No more than 4% of the users placed 1 order,  and no more than 1% placed 2 orders."
   ]
  },
  {
   "cell_type": "markdown",
   "id": "ff400a16",
   "metadata": {},
   "source": [
    "## A scatter chart of order revenue:"
   ]
  },
  {
   "cell_type": "code",
   "execution_count": 27,
   "id": "4d652fe8",
   "metadata": {},
   "outputs": [
    {
     "data": {
      "image/png": "[encoded data removed]",
      "text/plain": [
       "<Figure size 1080x720 with 1 Axes>"
      ]
     },
     "metadata": {
      "needs_background": "light"
     },
     "output_type": "display_data"
    }
   ],
   "source": [
    "plt.figure(figsize=(15,10))\n",
    "sns.scatterplot(data = orders, x = 'transactionid', y = 'revenue', hue = 'group', palette = ['#ff7f0e', '#1f77b4'],\n",
    "                                                                    s= orders['revenue'] / 3, alpha = 0.6, zorder = 3) \n",
    "plt.ylim(-500, 23500)\n",
    "plt.grid(axis = 'y', alpha = 0.2, color = 'g')\n",
    "plt.text(0, orders['revenue'].max() - 3000, \"Maximum revenue value: {:.2f}\".format(orders['revenue'].max()), bbox = dict(facecolor = '#ff7f0e', alpha = 0.5), size = 18, color = 'darkblue')\n",
    "plt.text(0, 12000, \"Median revenue value: {:.2f}\".format(orders['revenue'].median()), bbox = dict(facecolor = 'g', alpha = 0.4), size = 18, color = 'darkblue')\n",
    "plt.title('Order Revenue', size = 22)\n",
    "plt.ylabel('Revenue size', size = 18)\n",
    "plt.xlabel('Transactions', size = 18)\n",
    "\n",
    "plt.tick_params(axis='both', which='major', labelsize=12)\n",
    "plt.show()"
   ]
  },
  {
   "cell_type": "markdown",
   "id": "33176519",
   "metadata": {},
   "source": [
    "### scatter chart conclusions:\n",
    "- As seen before, there's a gigantic transaction of 19,920.40.\n",
    "- Data should be checked to see about the other high but not as high values."
   ]
  },
  {
   "cell_type": "markdown",
   "id": "006f19ad",
   "metadata": {},
   "source": [
    "## the 95th and 99th percentiles of order prices:"
   ]
  },
  {
   "cell_type": "code",
   "execution_count": 28,
   "id": "06e7b47e",
   "metadata": {},
   "outputs": [
    {
     "name": "stdout",
     "output_type": "stream",
     "text": [
      "[280.8   414.275 830.3  ]\n"
     ]
    }
   ],
   "source": [
    "#finding percentage threshold for revenues:\n",
    "print(np.percentile(orders['revenue'], [90, 95, 99])) "
   ]
  },
  {
   "cell_type": "markdown",
   "id": "fe8066b7",
   "metadata": {},
   "source": [
    "### Any Revenue higher than 414 should be an anomally and removed from the data.\n",
    "- No more than 10% of the orders had a higher revenue than 280.\n",
    "- No more than 5% of the orders had a higher revenue than 414\n",
    "- And no more than 1% of the orders passed the 830. \n",
    "- this order of 19,920 revenue really needs to be checked!"
   ]
  },
  {
   "cell_type": "markdown",
   "id": "40c313de",
   "metadata": {},
   "source": [
    "## Statistical significance (raw data):<br>The difference in conversion between the groups.\n",
    "**H₀: The conversion between the groups A, and B, is equal.**<br>\n",
    "**H₁: The conversion between the groups A, and B, differs.**"
   ]
  },
  {
   "cell_type": "code",
   "execution_count": 29,
   "id": "a0af9e17",
   "metadata": {},
   "outputs": [
    {
     "name": "stdout",
     "output_type": "stream",
     "text": [
      "p-value: 0.0055090420550073455\n",
      "We reject the null hypothesis.\n",
      "The relative conversion for group B: 15.98%\n"
     ]
    }
   ],
   "source": [
    "#defining groups:\n",
    "#first definition of groups does only work in new versions of pandas..\n",
    "#user_orders_a = orders[orders['group'] == 'A'].groupby('visitorid', as_index = False)['transactionid'].nunique().rename(columns = {'transactionid' : 'orders'})\n",
    "#user_orders_b = orders[orders['group'] == 'B'].groupby('visitorid', as_index = False)['transactionid'].nunique().rename(columns = {'transactionid' : 'orders'})\n",
    "#for pandas version 0.25.1 (current practicum version):\n",
    "user_orders_a = orders[orders['group'] == 'A'].groupby('visitorid')['transactionid'].nunique().reset_index().rename(columns = {'transactionid' : 'orders'})\n",
    "user_orders_b = orders[orders['group'] == 'B'].groupby('visitorid')['transactionid'].nunique().reset_index().rename(columns = {'transactionid' : 'orders'})\n",
    "\n",
    "#creating group samples for testing by concatinating each group's orders and sum of visits:\n",
    "user_orders_a_sample = pd.concat([user_orders_a['orders'], pd.Series(0, index = np.arange(visits[visits['group'] == 'A']['visits'].sum() - len(user_orders_a['orders'])), name = 'orders')], axis = 0)\n",
    "user_orders_b_sample = pd.concat([user_orders_b['orders'], pd.Series(0, index = np.arange(visits[visits['group'] == 'B']['visits'].sum() - len(user_orders_b['orders'])), name = 'orders')], axis = 0)\n",
    "\n",
    "#using a mann whitney u test and calculating the conversion for group B:\n",
    "alpha = 0.05 \n",
    "results = st.mannwhitneyu(user_orders_a_sample, user_orders_b_sample).pvalue\n",
    "\n",
    "print('p-value:', results)\n",
    "if results < alpha:\n",
    "    print(\"We reject the null hypothesis.\")\n",
    "else:\n",
    "    print(\"We can't reject the null hypothesis.\")\n",
    "    \n",
    "print(\"The relative conversion for group B: {:.2%}\".format(user_orders_b_sample.mean() / user_orders_a_sample.mean()-1))"
   ]
  },
  {
   "cell_type": "markdown",
   "id": "452f43b4",
   "metadata": {},
   "source": [
    "### It is safe to assume that there is a difference in conversion between group A and group B.\n",
    "- With pvalue as small as 0.0055. the null hypothesis that the groups are equal can be safely rejected.\n",
    "- This means the alternative hypothesis that there is a difference between the group is most likely true.\n",
    "- Group B has a +16% relative gain compared to group A."
   ]
  },
  {
   "cell_type": "markdown",
   "id": "29d512db",
   "metadata": {},
   "source": [
    "## Statistical significance (raw data)\n",
    "### There is no statistical significance difference in average order size between the groups.\n",
    "**H₀: There is no difference in average order size between group A and group B**<br>\n",
    "**H₁: There is a difference in average order size between group A and group B**"
   ]
  },
  {
   "cell_type": "code",
   "execution_count": 30,
   "id": "c332fc6c",
   "metadata": {},
   "outputs": [
    {
     "name": "stdout",
     "output_type": "stream",
     "text": [
      "p-value: 0.4311164845007834\n",
      "We can't reject the null hypothesis.\n",
      "The relative difference in average order size for group B: 27.83%\n"
     ]
    }
   ],
   "source": [
    "#using a mann whitney u test and calculating the conversion for group B:\n",
    "alpha = 0.05 \n",
    "results = st.mannwhitneyu(orders[orders['group'] == 'A']['revenue'], orders[orders['group'] == 'B']['revenue']).pvalue\n",
    "\n",
    "print('p-value:', results)\n",
    "if results < alpha:\n",
    "    print(\"We reject the null hypothesis.\")\n",
    "else:\n",
    "    print(\"We can't reject the null hypothesis.\")\n",
    "\n",
    "#adding relative difference dividing orders from group B with orders from group A:\n",
    "print(\"The relative difference in average order size for group B: {:.2%}\".format(orders[orders['group']=='B']['revenue'].mean() / orders[orders['group'] == 'A']['revenue'].mean() - 1))"
   ]
  },
  {
   "cell_type": "markdown",
   "id": "90c4ccb5",
   "metadata": {},
   "source": [
    "### It is safe to assume that there is no difference in order size between group A and group B\n",
    "- With pvalue as high as 0.43, we can not reject the null hypothesis that the groups differ.\n",
    "- This means the groups are most likely to be equal in order sizes.\n",
    "- Group B has a relative difference of +27.83% in order sizes compared to group A.\n",
    "- The test suggests that there **is NO difference** between the groups order size, and the relative calculation suggests there **IS a difference**. there must be some error, it is probably the outliers we detected."
   ]
  },
  {
   "cell_type": "markdown",
   "id": "f06f4819",
   "metadata": {},
   "source": [
    "## Statistical significance (outliers removed):<br>The difference in conversion between the groups using the filtered data.\n",
    "**H₀: The conversion between the groups A, and B, is equal.**<br>\n",
    "**H₁: The conversion between the groups A, and B, differs.**"
   ]
  },
  {
   "cell_type": "code",
   "execution_count": 31,
   "id": "3ded6c48",
   "metadata": {},
   "outputs": [],
   "source": [
    "#listing user orders by the 99 percentile:\n",
    "orders_outliers = pd.concat([user_orders_a[user_orders_a['orders'] > np.percentile(user_orders['orders'], 99)]['visitorid'],\n",
    "                      user_orders_b[user_orders_b['orders'] > np.percentile(user_orders['orders'], 99)]['visitorid']], axis = 0)\n",
    "\n",
    "#listing revenues by the 95 percentile:\n",
    "revenue_outliers = orders[orders['revenue'] > np.percentile(orders['revenue'], 95)]['visitorid']\n",
    "\n",
    "#combining outliers in one list:\n",
    "combined_outliers = pd.concat([orders_outliers, revenue_outliers], axis = 0).drop_duplicates().sort_values()\n",
    "#combined_outliers"
   ]
  },
  {
   "cell_type": "code",
   "execution_count": 32,
   "id": "a549f955",
   "metadata": {},
   "outputs": [
    {
     "name": "stdout",
     "output_type": "stream",
     "text": [
      "p-value: 0.006176019008863195\n",
      "We reject the null hypothesis.\n",
      "The relative conversion for group B: 18.19%\n"
     ]
    }
   ],
   "source": [
    "#creating sample groups that are not in the filter variables:\n",
    "filtered_sample_a = pd.concat([user_orders_a[np.logical_not(user_orders_a['visitorid'].isin(combined_outliers))]['orders'], pd.Series(0, index=np.arange(visits[visits['group']== 'A']['visits'].sum() - len(user_orders_a['orders'])) ,name='orders')], axis=0)\n",
    "filtered_sample_b = pd.concat([user_orders_b[np.logical_not(user_orders_b['visitorid'].isin(combined_outliers))]['orders'], pd.Series(0, index=np.arange(visits[visits['group'] == 'B']['visits'].sum() - len(user_orders_b['orders'])), name='orders')], axis=0)\n",
    "\n",
    "#using a mann whitney u test and calculating the conversion for group B:\n",
    "alpha = 0.05 \n",
    "results = st.mannwhitneyu(filtered_sample_a, filtered_sample_b).pvalue\n",
    "\n",
    "print('p-value:', results)\n",
    "if results < alpha:\n",
    "    print(\"We reject the null hypothesis.\")\n",
    "else:\n",
    "    print(\"We can't reject the null hypothesis.\")\n",
    "\n",
    "#adding relative difference dividing orders from group B with orders from group A:\n",
    "print(\"The relative conversion for group B: {:.2%}\".format(filtered_sample_b.mean() / filtered_sample_a.mean()-1))"
   ]
  },
  {
   "cell_type": "markdown",
   "id": "e5574c8c",
   "metadata": {},
   "source": [
    "### Having removed the outliers:<br>It is safe to assume that there is a difference in conversion between group A and group B.\n",
    "- With pvalue as small as 0.0061. the null hypothesis that the groups are equal can still be safely rejected.\n",
    "- This means the alternative hypothesis that there is a difference between the group is most likely true.\n",
    "- Group B has a +18.19% relative gain compared to group A. This is 2.2% higher than the previous unfiltered test."
   ]
  },
  {
   "cell_type": "markdown",
   "id": "5d35b6e8",
   "metadata": {},
   "source": [
    "## Statistical significance (outliers removed):<br>The difference in average order size between the groups using the filtered data.\n",
    "**H₀: There is no difference in average order size between group A and group B**<br>\n",
    "**H₁: There is a difference in average order size between group A and group B**"
   ]
  },
  {
   "cell_type": "code",
   "execution_count": 33,
   "id": "9f336b03",
   "metadata": {},
   "outputs": [
    {
     "name": "stdout",
     "output_type": "stream",
     "text": [
      "p-value: 0.3401433177565612\n",
      "We can't reject the null hypothesis.\n",
      "The relative difference in average order size for group B: -4.74%\n"
     ]
    }
   ],
   "source": [
    "#using a mann whitney u test and calculating the conversion for group B:\n",
    "alpha = 0.05 \n",
    "results = st.mannwhitneyu(orders[np.logical_and(orders['group'] == 'A',\n",
    " np.logical_not(orders['visitorid'].isin(combined_outliers)))]['revenue'], orders[np.logical_and(orders['group'] == 'B',\n",
    "        np.logical_not(orders['visitorid'].isin(combined_outliers)))]['revenue']).pvalue\n",
    "\n",
    "print('p-value:', results)\n",
    "if results < alpha:\n",
    "    print(\"We reject the null hypothesis.\")\n",
    "else:\n",
    "    print(\"We can't reject the null hypothesis.\")\n",
    "\n",
    "#adding relative difference dividing orders from group B with orders from group A, that are not found in the filter variables:\n",
    "print(\"The relative difference in average order size for group B: {:.2%}\".format(orders[np.logical_and(orders['group'] == 'B',\n",
    "   np.logical_not(orders['visitorid'].isin(combined_outliers)))]['revenue'].mean() / orders[np.logical_and(orders['group'] == 'A',\n",
    "   np.logical_not(orders['visitorid'].isin(combined_outliers)))]['revenue'].mean() - 1))"
   ]
  },
  {
   "cell_type": "markdown",
   "id": "ec90a0ea",
   "metadata": {},
   "source": [
    "### Having removed the outliers:<br>It is safe to assume that there is no difference in order size between group A and group B\n",
    "- Although pvalue this time is a little lower. 0.340 is still much higher than the alpha level of 0.05.\n",
    "- This means the groups are still most likely to be equal in order sizes.\n",
    "- This time, group B has a negative and much lower relative difference of -4.74% in order sizes compared to group A."
   ]
  },
  {
   "cell_type": "markdown",
   "id": "375405df",
   "metadata": {},
   "source": [
    "## Test conclusions:\n",
    "- Group B has stronger relative conversion of 18.19% more than group A, based on the filtered data (2.2% higher than the raw). \n",
    "- Group B has smaller relative order size of -4.74% compared to group A, based on the filtered data.\n",
    "    - There were great outliers in the raw data that made it seem like group B had a + 27% compared to group A.\n",
    "- In both raw and filtered data, the groups are likely to be equal in order size.\n",
    "- In both raw and filtered data, the groups are likely to differ in conversion.\n",
    "\n",
    "\n",
    "### It is best to stop the test:\n",
    "- Group B has 18.19% higher conversion, and just a slightly smaller average purchase size (-4.74%), this means there are more users making purchases, and it is more profitable.<br>"
   ]
  },
  {
   "cell_type": "markdown",
   "id": "83bae610",
   "metadata": {},
   "source": [
    "# Overall conclusions and recommendations:\n",
    "- As we read and prepared the data we found and removed the following anomallies:\n",
    "    - 58 users who has made transactions both in group A and group B.\n",
    "    - Outliers in revenue size: as much as 20,000!\n",
    "    - 0.72% of the users who made 3 purchases.\n",
    "    \n",
    "- Drawing various graphs we found that:\n",
    "    - 96% of users made only one purchase. 2.98% made 2 purchases, and 0.72% made 3 purchases. No one made 4 or more purchases.<br>\n",
    "        **It is recommended to encourage custumers to place more orders, maybe a with discount or points system.**<br>\n",
    "        **It is also recommened to try and raise purchase size, maybe with a small percentage off the second item or recommending items similar to what costumers added to cart**\n",
    "    - In August-19, there was a huge purchase of 20,000. **It's worth checking it as the median purchase size is 50**.\n",
    "\n",
    "- Testing significant difference we found that:\n",
    "    - Conversion rate was in favor of group B with 18.19%.\n",
    "    - The average order size is similar between the groups, group B is slightly lower with -4.74%. Perhaps it's just bad luck as it is hard to imagine adding subscription form to main pages would reduce order size."
   ]
  }
 ],
 "metadata": {
  "ExecuteTimeLog": [
   {
    "duration": 1548,
    "start_time": "2021-09-29T14:01:14.860Z"
   },
   {
    "duration": 361,
    "start_time": "2021-09-29T14:01:16.410Z"
   },
   {
    "duration": 17,
    "start_time": "2021-09-29T14:01:16.774Z"
   },
   {
    "duration": 33,
    "start_time": "2021-09-29T14:01:16.793Z"
   },
   {
    "duration": 1131,
    "start_time": "2021-09-29T14:01:16.829Z"
   },
   {
    "duration": 4,
    "start_time": "2021-09-29T14:01:17.963Z"
   },
   {
    "duration": 47,
    "start_time": "2021-09-29T14:01:17.969Z"
   },
   {
    "duration": 681,
    "start_time": "2021-09-29T14:01:18.020Z"
   },
   {
    "duration": 113739,
    "start_time": "2021-09-29T13:59:24.966Z"
   },
   {
    "duration": 113738,
    "start_time": "2021-09-29T13:59:24.968Z"
   },
   {
    "duration": 113738,
    "start_time": "2021-09-29T13:59:24.970Z"
   },
   {
    "duration": 113611,
    "start_time": "2021-09-29T13:59:25.098Z"
   },
   {
    "duration": 113611,
    "start_time": "2021-09-29T13:59:25.099Z"
   },
   {
    "duration": 113607,
    "start_time": "2021-09-29T13:59:25.104Z"
   },
   {
    "duration": 113608,
    "start_time": "2021-09-29T13:59:25.105Z"
   },
   {
    "duration": 113604,
    "start_time": "2021-09-29T13:59:25.110Z"
   },
   {
    "duration": 113602,
    "start_time": "2021-09-29T13:59:25.113Z"
   },
   {
    "duration": 113599,
    "start_time": "2021-09-29T13:59:25.118Z"
   },
   {
    "duration": 113598,
    "start_time": "2021-09-29T13:59:25.120Z"
   },
   {
    "duration": 113594,
    "start_time": "2021-09-29T13:59:25.125Z"
   },
   {
    "duration": 113594,
    "start_time": "2021-09-29T13:59:25.126Z"
   },
   {
    "duration": 113590,
    "start_time": "2021-09-29T13:59:25.131Z"
   },
   {
    "duration": 113590,
    "start_time": "2021-09-29T13:59:25.132Z"
   },
   {
    "duration": 113590,
    "start_time": "2021-09-29T13:59:25.134Z"
   },
   {
    "duration": 113587,
    "start_time": "2021-09-29T13:59:25.138Z"
   },
   {
    "duration": 113585,
    "start_time": "2021-09-29T13:59:25.141Z"
   },
   {
    "duration": 113583,
    "start_time": "2021-09-29T13:59:25.145Z"
   },
   {
    "duration": 113582,
    "start_time": "2021-09-29T13:59:25.147Z"
   },
   {
    "duration": 113582,
    "start_time": "2021-09-29T13:59:25.148Z"
   },
   {
    "duration": 113579,
    "start_time": "2021-09-29T13:59:25.153Z"
   },
   {
    "duration": 113579,
    "start_time": "2021-09-29T13:59:25.154Z"
   },
   {
    "duration": 113577,
    "start_time": "2021-09-29T13:59:25.158Z"
   },
   {
    "duration": 113577,
    "start_time": "2021-09-29T13:59:25.160Z"
   },
   {
    "duration": 113576,
    "start_time": "2021-09-29T13:59:25.162Z"
   },
   {
    "duration": 113573,
    "start_time": "2021-09-29T13:59:25.166Z"
   },
   {
    "duration": 113574,
    "start_time": "2021-09-29T13:59:25.167Z"
   },
   {
    "duration": 1496,
    "start_time": "2021-09-29T14:14:47.913Z"
   },
   {
    "duration": 399,
    "start_time": "2021-09-29T14:14:49.411Z"
   },
   {
    "duration": 16,
    "start_time": "2021-09-29T14:14:49.813Z"
   },
   {
    "duration": 26,
    "start_time": "2021-09-29T14:14:49.832Z"
   },
   {
    "duration": 1122,
    "start_time": "2021-09-29T14:14:49.860Z"
   },
   {
    "duration": 6,
    "start_time": "2021-09-29T14:14:50.986Z"
   },
   {
    "duration": 16,
    "start_time": "2021-09-29T14:14:51.015Z"
   },
   {
    "duration": 925,
    "start_time": "2021-09-29T14:14:51.034Z"
   },
   {
    "duration": 113535,
    "start_time": "2021-09-29T14:12:58.429Z"
   },
   {
    "duration": 113535,
    "start_time": "2021-09-29T14:12:58.431Z"
   },
   {
    "duration": 113536,
    "start_time": "2021-09-29T14:12:58.432Z"
   },
   {
    "duration": 113536,
    "start_time": "2021-09-29T14:12:58.434Z"
   },
   {
    "duration": 113535,
    "start_time": "2021-09-29T14:12:58.436Z"
   },
   {
    "duration": 113536,
    "start_time": "2021-09-29T14:12:58.437Z"
   },
   {
    "duration": 113536,
    "start_time": "2021-09-29T14:12:58.439Z"
   },
   {
    "duration": 113536,
    "start_time": "2021-09-29T14:12:58.440Z"
   },
   {
    "duration": 113536,
    "start_time": "2021-09-29T14:12:58.442Z"
   },
   {
    "duration": 113536,
    "start_time": "2021-09-29T14:12:58.443Z"
   },
   {
    "duration": 113536,
    "start_time": "2021-09-29T14:12:58.445Z"
   },
   {
    "duration": 113536,
    "start_time": "2021-09-29T14:12:58.446Z"
   },
   {
    "duration": 113537,
    "start_time": "2021-09-29T14:12:58.447Z"
   },
   {
    "duration": 113536,
    "start_time": "2021-09-29T14:12:58.449Z"
   },
   {
    "duration": 113537,
    "start_time": "2021-09-29T14:12:58.450Z"
   },
   {
    "duration": 113536,
    "start_time": "2021-09-29T14:12:58.452Z"
   },
   {
    "duration": 113537,
    "start_time": "2021-09-29T14:12:58.453Z"
   },
   {
    "duration": 113536,
    "start_time": "2021-09-29T14:12:58.455Z"
   },
   {
    "duration": 113439,
    "start_time": "2021-09-29T14:12:58.554Z"
   },
   {
    "duration": 113411,
    "start_time": "2021-09-29T14:12:58.583Z"
   },
   {
    "duration": 113410,
    "start_time": "2021-09-29T14:12:58.586Z"
   },
   {
    "duration": 113411,
    "start_time": "2021-09-29T14:12:58.587Z"
   },
   {
    "duration": 113426,
    "start_time": "2021-09-29T14:12:58.589Z"
   },
   {
    "duration": 113427,
    "start_time": "2021-09-29T14:12:58.590Z"
   },
   {
    "duration": 113427,
    "start_time": "2021-09-29T14:12:58.591Z"
   },
   {
    "duration": 113427,
    "start_time": "2021-09-29T14:12:58.593Z"
   },
   {
    "duration": 113427,
    "start_time": "2021-09-29T14:12:58.594Z"
   },
   {
    "duration": 113427,
    "start_time": "2021-09-29T14:12:58.595Z"
   },
   {
    "duration": 44,
    "start_time": "2021-09-29T14:18:10.049Z"
   },
   {
    "duration": 519,
    "start_time": "2021-09-29T14:18:12.430Z"
   },
   {
    "duration": 43,
    "start_time": "2021-09-29T14:18:30.359Z"
   },
   {
    "duration": 440,
    "start_time": "2021-09-29T14:18:31.183Z"
   },
   {
    "duration": 1226,
    "start_time": "2021-09-29T22:15:26.772Z"
   },
   {
    "duration": 241,
    "start_time": "2021-09-29T22:15:28.000Z"
   },
   {
    "duration": 13,
    "start_time": "2021-09-29T22:15:28.243Z"
   },
   {
    "duration": 16,
    "start_time": "2021-09-29T22:15:28.258Z"
   },
   {
    "duration": 687,
    "start_time": "2021-09-29T22:15:28.276Z"
   },
   {
    "duration": 3,
    "start_time": "2021-09-29T22:15:28.965Z"
   },
   {
    "duration": 19,
    "start_time": "2021-09-29T22:15:28.970Z"
   },
   {
    "duration": 6,
    "start_time": "2021-09-29T22:15:28.991Z"
   },
   {
    "duration": 12,
    "start_time": "2021-09-29T22:15:28.999Z"
   },
   {
    "duration": 40,
    "start_time": "2021-09-29T22:15:29.014Z"
   },
   {
    "duration": 8,
    "start_time": "2021-09-29T22:15:29.056Z"
   },
   {
    "duration": 6,
    "start_time": "2021-09-29T22:15:29.066Z"
   },
   {
    "duration": 6,
    "start_time": "2021-09-29T22:15:29.074Z"
   },
   {
    "duration": 360,
    "start_time": "2021-09-29T22:15:29.082Z"
   },
   {
    "duration": 113493,
    "start_time": "2021-09-29T22:13:35.952Z"
   },
   {
    "duration": 113492,
    "start_time": "2021-09-29T22:13:35.954Z"
   },
   {
    "duration": 113492,
    "start_time": "2021-09-29T22:13:35.955Z"
   },
   {
    "duration": 113491,
    "start_time": "2021-09-29T22:13:35.957Z"
   },
   {
    "duration": 113491,
    "start_time": "2021-09-29T22:13:35.958Z"
   },
   {
    "duration": 113489,
    "start_time": "2021-09-29T22:13:35.961Z"
   },
   {
    "duration": 113488,
    "start_time": "2021-09-29T22:13:35.963Z"
   },
   {
    "duration": 113488,
    "start_time": "2021-09-29T22:13:35.964Z"
   },
   {
    "duration": 113487,
    "start_time": "2021-09-29T22:13:35.966Z"
   },
   {
    "duration": 113433,
    "start_time": "2021-09-29T22:13:36.021Z"
   },
   {
    "duration": 113432,
    "start_time": "2021-09-29T22:13:36.023Z"
   },
   {
    "duration": 113432,
    "start_time": "2021-09-29T22:13:36.024Z"
   },
   {
    "duration": 113432,
    "start_time": "2021-09-29T22:13:36.025Z"
   },
   {
    "duration": 113416,
    "start_time": "2021-09-29T22:13:36.042Z"
   },
   {
    "duration": 113415,
    "start_time": "2021-09-29T22:13:36.044Z"
   },
   {
    "duration": 113413,
    "start_time": "2021-09-29T22:13:36.047Z"
   },
   {
    "duration": 113413,
    "start_time": "2021-09-29T22:13:36.048Z"
   },
   {
    "duration": 113413,
    "start_time": "2021-09-29T22:13:36.049Z"
   },
   {
    "duration": 113410,
    "start_time": "2021-09-29T22:13:36.053Z"
   },
   {
    "duration": 113391,
    "start_time": "2021-09-29T22:13:36.073Z"
   },
   {
    "duration": 113390,
    "start_time": "2021-09-29T22:13:36.075Z"
   },
   {
    "duration": 113390,
    "start_time": "2021-09-29T22:13:36.076Z"
   },
   {
    "duration": 113389,
    "start_time": "2021-09-29T22:13:36.078Z"
   },
   {
    "duration": 1265,
    "start_time": "2021-09-29T23:13:22.242Z"
   },
   {
    "duration": 237,
    "start_time": "2021-09-29T23:13:23.509Z"
   },
   {
    "duration": 14,
    "start_time": "2021-09-29T23:13:23.748Z"
   },
   {
    "duration": 43,
    "start_time": "2021-09-29T23:13:23.764Z"
   },
   {
    "duration": 780,
    "start_time": "2021-09-29T23:13:23.808Z"
   },
   {
    "duration": 3,
    "start_time": "2021-09-29T23:13:24.590Z"
   },
   {
    "duration": 25,
    "start_time": "2021-09-29T23:13:24.595Z"
   },
   {
    "duration": 17,
    "start_time": "2021-09-29T23:13:24.623Z"
   },
   {
    "duration": 19,
    "start_time": "2021-09-29T23:13:24.642Z"
   },
   {
    "duration": 49,
    "start_time": "2021-09-29T23:13:24.663Z"
   },
   {
    "duration": 20,
    "start_time": "2021-09-29T23:13:24.714Z"
   },
   {
    "duration": 39,
    "start_time": "2021-09-29T23:13:24.736Z"
   },
   {
    "duration": 41,
    "start_time": "2021-09-29T23:13:24.777Z"
   },
   {
    "duration": 336,
    "start_time": "2021-09-29T23:13:24.820Z"
   },
   {
    "duration": 113701,
    "start_time": "2021-09-29T23:11:31.458Z"
   },
   {
    "duration": 113691,
    "start_time": "2021-09-29T23:11:31.469Z"
   },
   {
    "duration": 113689,
    "start_time": "2021-09-29T23:11:31.471Z"
   },
   {
    "duration": 113688,
    "start_time": "2021-09-29T23:11:31.473Z"
   },
   {
    "duration": 113683,
    "start_time": "2021-09-29T23:11:31.479Z"
   },
   {
    "duration": 113679,
    "start_time": "2021-09-29T23:11:31.484Z"
   },
   {
    "duration": 113678,
    "start_time": "2021-09-29T23:11:31.486Z"
   },
   {
    "duration": 113674,
    "start_time": "2021-09-29T23:11:31.491Z"
   },
   {
    "duration": 113674,
    "start_time": "2021-09-29T23:11:31.492Z"
   },
   {
    "duration": 113673,
    "start_time": "2021-09-29T23:11:31.494Z"
   },
   {
    "duration": 113669,
    "start_time": "2021-09-29T23:11:31.499Z"
   },
   {
    "duration": 113668,
    "start_time": "2021-09-29T23:11:31.500Z"
   },
   {
    "duration": 113664,
    "start_time": "2021-09-29T23:11:31.505Z"
   },
   {
    "duration": 113664,
    "start_time": "2021-09-29T23:11:31.506Z"
   },
   {
    "duration": 113663,
    "start_time": "2021-09-29T23:11:31.508Z"
   },
   {
    "duration": 113660,
    "start_time": "2021-09-29T23:11:31.512Z"
   },
   {
    "duration": 113659,
    "start_time": "2021-09-29T23:11:31.514Z"
   },
   {
    "duration": 113656,
    "start_time": "2021-09-29T23:11:31.518Z"
   },
   {
    "duration": 113655,
    "start_time": "2021-09-29T23:11:31.520Z"
   },
   {
    "duration": 113654,
    "start_time": "2021-09-29T23:11:31.522Z"
   },
   {
    "duration": 113649,
    "start_time": "2021-09-29T23:11:31.527Z"
   },
   {
    "duration": 113648,
    "start_time": "2021-09-29T23:11:31.529Z"
   },
   {
    "duration": 113645,
    "start_time": "2021-09-29T23:11:31.533Z"
   },
   {
    "duration": 13,
    "start_time": "2021-09-29T23:17:45.899Z"
   },
   {
    "duration": 258,
    "start_time": "2021-09-29T23:17:59.227Z"
   },
   {
    "duration": 16,
    "start_time": "2021-09-29T23:18:06.146Z"
   },
   {
    "duration": 6021,
    "start_time": "2021-09-29T23:18:19.508Z"
   },
   {
    "duration": 13,
    "start_time": "2021-09-29T23:18:34.549Z"
   },
   {
    "duration": 14,
    "start_time": "2021-09-29T23:19:21.595Z"
   },
   {
    "duration": 10,
    "start_time": "2021-09-29T23:19:36.499Z"
   },
   {
    "duration": 4,
    "start_time": "2021-09-29T23:19:38.907Z"
   },
   {
    "duration": 9,
    "start_time": "2021-09-29T23:19:39.804Z"
   },
   {
    "duration": 1116,
    "start_time": "2021-09-29T23:19:47.297Z"
   },
   {
    "duration": 234,
    "start_time": "2021-09-29T23:19:48.415Z"
   },
   {
    "duration": 13,
    "start_time": "2021-09-29T23:19:48.652Z"
   },
   {
    "duration": 17,
    "start_time": "2021-09-29T23:19:48.667Z"
   },
   {
    "duration": 682,
    "start_time": "2021-09-29T23:19:48.685Z"
   },
   {
    "duration": 2,
    "start_time": "2021-09-29T23:19:49.369Z"
   },
   {
    "duration": 13,
    "start_time": "2021-09-29T23:19:49.373Z"
   },
   {
    "duration": 7,
    "start_time": "2021-09-29T23:19:49.389Z"
   },
   {
    "duration": 8,
    "start_time": "2021-09-29T23:19:49.398Z"
   },
   {
    "duration": 54,
    "start_time": "2021-09-29T23:19:49.408Z"
   },
   {
    "duration": 10,
    "start_time": "2021-09-29T23:19:49.464Z"
   },
   {
    "duration": 7,
    "start_time": "2021-09-29T23:19:49.476Z"
   },
   {
    "duration": 7,
    "start_time": "2021-09-29T23:19:49.485Z"
   },
   {
    "duration": 11,
    "start_time": "2021-09-29T23:19:49.494Z"
   },
   {
    "duration": 371,
    "start_time": "2021-09-29T23:19:49.507Z"
   },
   {
    "duration": 113691,
    "start_time": "2021-09-29T23:17:56.190Z"
   },
   {
    "duration": 113690,
    "start_time": "2021-09-29T23:17:56.192Z"
   },
   {
    "duration": 113689,
    "start_time": "2021-09-29T23:17:56.193Z"
   },
   {
    "duration": 113688,
    "start_time": "2021-09-29T23:17:56.195Z"
   },
   {
    "duration": 113688,
    "start_time": "2021-09-29T23:17:56.196Z"
   },
   {
    "duration": 113688,
    "start_time": "2021-09-29T23:17:56.197Z"
   },
   {
    "duration": 113687,
    "start_time": "2021-09-29T23:17:56.199Z"
   },
   {
    "duration": 113687,
    "start_time": "2021-09-29T23:17:56.200Z"
   },
   {
    "duration": 113686,
    "start_time": "2021-09-29T23:17:56.201Z"
   },
   {
    "duration": 113685,
    "start_time": "2021-09-29T23:17:56.203Z"
   },
   {
    "duration": 113685,
    "start_time": "2021-09-29T23:17:56.204Z"
   },
   {
    "duration": 113684,
    "start_time": "2021-09-29T23:17:56.206Z"
   },
   {
    "duration": 113681,
    "start_time": "2021-09-29T23:17:56.210Z"
   },
   {
    "duration": 113681,
    "start_time": "2021-09-29T23:17:56.211Z"
   },
   {
    "duration": 113680,
    "start_time": "2021-09-29T23:17:56.213Z"
   },
   {
    "duration": 113680,
    "start_time": "2021-09-29T23:17:56.214Z"
   },
   {
    "duration": 113679,
    "start_time": "2021-09-29T23:17:56.216Z"
   },
   {
    "duration": 113679,
    "start_time": "2021-09-29T23:17:56.217Z"
   },
   {
    "duration": 113679,
    "start_time": "2021-09-29T23:17:56.218Z"
   },
   {
    "duration": 113677,
    "start_time": "2021-09-29T23:17:56.220Z"
   },
   {
    "duration": 113677,
    "start_time": "2021-09-29T23:17:56.221Z"
   },
   {
    "duration": 113676,
    "start_time": "2021-09-29T23:17:56.223Z"
   },
   {
    "duration": 113676,
    "start_time": "2021-09-29T23:17:56.224Z"
   },
   {
    "duration": 14,
    "start_time": "2021-09-29T23:20:14.702Z"
   },
   {
    "duration": 6,
    "start_time": "2021-09-29T23:20:23.046Z"
   },
   {
    "duration": 1171,
    "start_time": "2021-09-29T23:20:49.442Z"
   },
   {
    "duration": 239,
    "start_time": "2021-09-29T23:20:50.615Z"
   },
   {
    "duration": 12,
    "start_time": "2021-09-29T23:20:50.856Z"
   },
   {
    "duration": 17,
    "start_time": "2021-09-29T23:20:50.870Z"
   },
   {
    "duration": 676,
    "start_time": "2021-09-29T23:20:50.889Z"
   },
   {
    "duration": 3,
    "start_time": "2021-09-29T23:20:51.567Z"
   },
   {
    "duration": 12,
    "start_time": "2021-09-29T23:20:51.571Z"
   },
   {
    "duration": 8,
    "start_time": "2021-09-29T23:20:51.586Z"
   },
   {
    "duration": 19,
    "start_time": "2021-09-29T23:20:51.596Z"
   },
   {
    "duration": 44,
    "start_time": "2021-09-29T23:20:51.617Z"
   },
   {
    "duration": 10,
    "start_time": "2021-09-29T23:20:51.663Z"
   },
   {
    "duration": 6,
    "start_time": "2021-09-29T23:20:51.675Z"
   },
   {
    "duration": 11,
    "start_time": "2021-09-29T23:20:51.683Z"
   },
   {
    "duration": 12,
    "start_time": "2021-09-29T23:20:51.696Z"
   },
   {
    "duration": 42,
    "start_time": "2021-09-29T23:20:51.710Z"
   },
   {
    "duration": 11,
    "start_time": "2021-09-29T23:20:51.754Z"
   },
   {
    "duration": 7,
    "start_time": "2021-09-29T23:20:51.766Z"
   },
   {
    "duration": 15,
    "start_time": "2021-09-29T23:20:51.775Z"
   },
   {
    "duration": 6,
    "start_time": "2021-09-29T23:20:51.792Z"
   },
   {
    "duration": 10,
    "start_time": "2021-09-29T23:20:51.800Z"
   },
   {
    "duration": 38,
    "start_time": "2021-09-29T23:20:51.812Z"
   },
   {
    "duration": 371,
    "start_time": "2021-09-29T23:20:51.852Z"
   },
   {
    "duration": 491,
    "start_time": "2021-09-29T23:20:52.226Z"
   },
   {
    "duration": 469,
    "start_time": "2021-09-29T23:20:52.719Z"
   },
   {
    "duration": 454,
    "start_time": "2021-09-29T23:20:53.190Z"
   },
   {
    "duration": 515,
    "start_time": "2021-09-29T23:20:53.648Z"
   },
   {
    "duration": 495,
    "start_time": "2021-09-29T23:20:54.165Z"
   },
   {
    "duration": 124,
    "start_time": "2021-09-29T23:20:54.662Z"
   },
   {
    "duration": 427,
    "start_time": "2021-09-29T23:20:54.788Z"
   },
   {
    "duration": 4,
    "start_time": "2021-09-29T23:20:55.217Z"
   },
   {
    "duration": 622,
    "start_time": "2021-09-29T23:20:55.223Z"
   },
   {
    "duration": 7,
    "start_time": "2021-09-29T23:20:55.847Z"
   },
   {
    "duration": 3813,
    "start_time": "2021-09-29T23:20:55.856Z"
   },
   {
    "duration": 113572,
    "start_time": "2021-09-29T23:19:06.099Z"
   },
   {
    "duration": 113571,
    "start_time": "2021-09-29T23:19:06.101Z"
   },
   {
    "duration": 113570,
    "start_time": "2021-09-29T23:19:06.103Z"
   },
   {
    "duration": 113567,
    "start_time": "2021-09-29T23:19:06.106Z"
   },
   {
    "duration": 3,
    "start_time": "2021-09-29T23:23:13.265Z"
   },
   {
    "duration": 3,
    "start_time": "2021-09-29T23:23:20.568Z"
   },
   {
    "duration": 9,
    "start_time": "2021-09-29T23:23:44.377Z"
   },
   {
    "duration": 3119,
    "start_time": "2021-09-29T23:24:13.480Z"
   },
   {
    "duration": 5,
    "start_time": "2021-09-29T23:24:38.475Z"
   },
   {
    "duration": 113579,
    "start_time": "2021-09-29T23:22:55.250Z"
   },
   {
    "duration": 6,
    "start_time": "2021-09-29T23:24:50.647Z"
   },
   {
    "duration": 5,
    "start_time": "2021-09-29T23:24:56.473Z"
   },
   {
    "duration": 6,
    "start_time": "2021-09-29T23:24:59.753Z"
   },
   {
    "duration": 10,
    "start_time": "2021-09-29T23:25:13.881Z"
   },
   {
    "duration": 9,
    "start_time": "2021-09-29T23:25:55.953Z"
   },
   {
    "duration": 13,
    "start_time": "2021-09-29T23:26:14.000Z"
   },
   {
    "duration": 15,
    "start_time": "2021-09-29T23:26:34.258Z"
   },
   {
    "duration": 88,
    "start_time": "2021-09-29T23:26:38.738Z"
   },
   {
    "duration": 16,
    "start_time": "2021-09-29T23:26:42.714Z"
   },
   {
    "duration": 9,
    "start_time": "2021-09-29T23:26:58.217Z"
   },
   {
    "duration": 14,
    "start_time": "2021-09-29T23:27:21.738Z"
   },
   {
    "duration": 22,
    "start_time": "2021-09-29T23:27:39.940Z"
   },
   {
    "duration": 24,
    "start_time": "2021-09-29T23:30:14.144Z"
   },
   {
    "duration": 12,
    "start_time": "2021-09-29T23:30:16.129Z"
   },
   {
    "duration": 10,
    "start_time": "2021-09-29T23:30:18.650Z"
   },
   {
    "duration": 17,
    "start_time": "2021-09-29T23:30:20.010Z"
   },
   {
    "duration": 18,
    "start_time": "2021-09-29T23:30:21.755Z"
   },
   {
    "duration": 10,
    "start_time": "2021-09-29T23:36:27.786Z"
   },
   {
    "duration": 1187,
    "start_time": "2021-09-29T23:37:32.726Z"
   },
   {
    "duration": 255,
    "start_time": "2021-09-29T23:37:33.915Z"
   },
   {
    "duration": 14,
    "start_time": "2021-09-29T23:37:34.173Z"
   },
   {
    "duration": 15,
    "start_time": "2021-09-29T23:37:34.189Z"
   },
   {
    "duration": 671,
    "start_time": "2021-09-29T23:37:34.207Z"
   },
   {
    "duration": 4,
    "start_time": "2021-09-29T23:37:34.880Z"
   },
   {
    "duration": 16,
    "start_time": "2021-09-29T23:37:34.886Z"
   },
   {
    "duration": 10,
    "start_time": "2021-09-29T23:37:34.905Z"
   },
   {
    "duration": 51,
    "start_time": "2021-09-29T23:37:34.917Z"
   },
   {
    "duration": 15,
    "start_time": "2021-09-29T23:37:34.971Z"
   },
   {
    "duration": 8,
    "start_time": "2021-09-29T23:37:34.987Z"
   },
   {
    "duration": 6,
    "start_time": "2021-09-29T23:37:34.997Z"
   },
   {
    "duration": 12,
    "start_time": "2021-09-29T23:37:35.005Z"
   },
   {
    "duration": 34,
    "start_time": "2021-09-29T23:37:35.019Z"
   },
   {
    "duration": 11,
    "start_time": "2021-09-29T23:37:35.055Z"
   },
   {
    "duration": 11,
    "start_time": "2021-09-29T23:37:35.068Z"
   },
   {
    "duration": 17,
    "start_time": "2021-09-29T23:37:35.080Z"
   },
   {
    "duration": 9,
    "start_time": "2021-09-29T23:37:35.098Z"
   },
   {
    "duration": 9,
    "start_time": "2021-09-29T23:37:35.109Z"
   },
   {
    "duration": 31,
    "start_time": "2021-09-29T23:37:35.119Z"
   },
   {
    "duration": 361,
    "start_time": "2021-09-29T23:37:35.152Z"
   },
   {
    "duration": 476,
    "start_time": "2021-09-29T23:37:35.515Z"
   },
   {
    "duration": 461,
    "start_time": "2021-09-29T23:37:35.995Z"
   },
   {
    "duration": 448,
    "start_time": "2021-09-29T23:37:36.458Z"
   },
   {
    "duration": 534,
    "start_time": "2021-09-29T23:37:36.907Z"
   },
   {
    "duration": 485,
    "start_time": "2021-09-29T23:37:37.442Z"
   },
   {
    "duration": 144,
    "start_time": "2021-09-29T23:37:37.928Z"
   },
   {
    "duration": 448,
    "start_time": "2021-09-29T23:37:38.074Z"
   },
   {
    "duration": 4,
    "start_time": "2021-09-29T23:37:38.524Z"
   },
   {
    "duration": 537,
    "start_time": "2021-09-29T23:37:38.530Z"
   },
   {
    "duration": 4,
    "start_time": "2021-09-29T23:37:39.069Z"
   },
   {
    "duration": 24,
    "start_time": "2021-09-29T23:37:39.075Z"
   },
   {
    "duration": 13,
    "start_time": "2021-09-29T23:37:39.101Z"
   },
   {
    "duration": 41,
    "start_time": "2021-09-29T23:37:39.116Z"
   },
   {
    "duration": 18,
    "start_time": "2021-09-29T23:37:39.159Z"
   },
   {
    "duration": 16,
    "start_time": "2021-09-29T23:37:39.179Z"
   },
   {
    "duration": 1481,
    "start_time": "2021-09-30T05:24:33.614Z"
   },
   {
    "duration": 289,
    "start_time": "2021-09-30T05:24:35.098Z"
   },
   {
    "duration": 19,
    "start_time": "2021-09-30T05:24:35.395Z"
   },
   {
    "duration": 23,
    "start_time": "2021-09-30T05:24:35.417Z"
   },
   {
    "duration": 1196,
    "start_time": "2021-09-30T05:24:35.443Z"
   },
   {
    "duration": 5,
    "start_time": "2021-09-30T05:24:36.642Z"
   },
   {
    "duration": 15,
    "start_time": "2021-09-30T05:24:36.671Z"
   },
   {
    "duration": 10,
    "start_time": "2021-09-30T05:24:36.690Z"
   },
   {
    "duration": 31,
    "start_time": "2021-09-30T05:24:36.702Z"
   },
   {
    "duration": 48,
    "start_time": "2021-09-30T05:24:36.736Z"
   },
   {
    "duration": 8,
    "start_time": "2021-09-30T05:24:36.786Z"
   },
   {
    "duration": 9,
    "start_time": "2021-09-30T05:24:36.796Z"
   },
   {
    "duration": 61,
    "start_time": "2021-09-30T05:24:36.807Z"
   },
   {
    "duration": 7,
    "start_time": "2021-09-30T05:24:36.870Z"
   },
   {
    "duration": 13,
    "start_time": "2021-09-30T05:24:36.880Z"
   },
   {
    "duration": 10,
    "start_time": "2021-09-30T05:24:36.895Z"
   },
   {
    "duration": 18,
    "start_time": "2021-09-30T05:24:36.907Z"
   },
   {
    "duration": 42,
    "start_time": "2021-09-30T05:24:36.928Z"
   },
   {
    "duration": 10,
    "start_time": "2021-09-30T05:24:36.973Z"
   },
   {
    "duration": 7,
    "start_time": "2021-09-30T05:24:36.985Z"
   },
   {
    "duration": 658,
    "start_time": "2021-09-30T05:24:36.995Z"
   },
   {
    "duration": 854,
    "start_time": "2021-09-30T05:24:37.658Z"
   },
   {
    "duration": 681,
    "start_time": "2021-09-30T05:24:38.515Z"
   },
   {
    "duration": 846,
    "start_time": "2021-09-30T05:24:39.199Z"
   },
   {
    "duration": 802,
    "start_time": "2021-09-30T05:24:40.048Z"
   },
   {
    "duration": 827,
    "start_time": "2021-09-30T05:24:40.853Z"
   },
   {
    "duration": 225,
    "start_time": "2021-09-30T05:24:41.683Z"
   },
   {
    "duration": 685,
    "start_time": "2021-09-30T05:24:41.910Z"
   },
   {
    "duration": 6,
    "start_time": "2021-09-30T05:24:42.597Z"
   },
   {
    "duration": 777,
    "start_time": "2021-09-30T05:24:42.605Z"
   },
   {
    "duration": 5,
    "start_time": "2021-09-30T05:24:43.385Z"
   },
   {
    "duration": 32,
    "start_time": "2021-09-30T05:24:43.393Z"
   },
   {
    "duration": 47,
    "start_time": "2021-09-30T05:24:43.428Z"
   },
   {
    "duration": 20,
    "start_time": "2021-09-30T05:24:43.477Z"
   },
   {
    "duration": 22,
    "start_time": "2021-09-30T05:24:43.499Z"
   },
   {
    "duration": 51,
    "start_time": "2021-09-30T05:24:43.523Z"
   },
   {
    "duration": 1538,
    "start_time": "2021-09-30T06:26:54.644Z"
   },
   {
    "duration": 333,
    "start_time": "2021-09-30T06:26:56.185Z"
   },
   {
    "duration": 19,
    "start_time": "2021-09-30T06:26:56.524Z"
   },
   {
    "duration": 40,
    "start_time": "2021-09-30T06:26:56.546Z"
   },
   {
    "duration": 1254,
    "start_time": "2021-09-30T06:26:56.588Z"
   },
   {
    "duration": 4,
    "start_time": "2021-09-30T06:26:57.844Z"
   },
   {
    "duration": 27,
    "start_time": "2021-09-30T06:26:57.852Z"
   },
   {
    "duration": 13,
    "start_time": "2021-09-30T06:26:57.882Z"
   },
   {
    "duration": 28,
    "start_time": "2021-09-30T06:26:57.897Z"
   },
   {
    "duration": 51,
    "start_time": "2021-09-30T06:26:57.927Z"
   },
   {
    "duration": 9,
    "start_time": "2021-09-30T06:26:57.981Z"
   },
   {
    "duration": 8,
    "start_time": "2021-09-30T06:26:57.993Z"
   },
   {
    "duration": 21,
    "start_time": "2021-09-30T06:26:58.004Z"
   },
   {
    "duration": 45,
    "start_time": "2021-09-30T06:26:58.027Z"
   },
   {
    "duration": 13,
    "start_time": "2021-09-30T06:26:58.076Z"
   },
   {
    "duration": 19,
    "start_time": "2021-09-30T06:26:58.093Z"
   },
   {
    "duration": 57,
    "start_time": "2021-09-30T06:26:58.115Z"
   },
   {
    "duration": 12,
    "start_time": "2021-09-30T06:26:58.175Z"
   },
   {
    "duration": 11,
    "start_time": "2021-09-30T06:26:58.190Z"
   },
   {
    "duration": 7,
    "start_time": "2021-09-30T06:26:58.204Z"
   },
   {
    "duration": 687,
    "start_time": "2021-09-30T06:26:58.214Z"
   },
   {
    "duration": 868,
    "start_time": "2021-09-30T06:26:58.905Z"
   },
   {
    "duration": 670,
    "start_time": "2021-09-30T06:26:59.776Z"
   },
   {
    "duration": 779,
    "start_time": "2021-09-30T06:27:00.448Z"
   },
   {
    "duration": 814,
    "start_time": "2021-09-30T06:27:01.229Z"
   },
   {
    "duration": 854,
    "start_time": "2021-09-30T06:27:02.045Z"
   },
   {
    "duration": 235,
    "start_time": "2021-09-30T06:27:02.901Z"
   },
   {
    "duration": 704,
    "start_time": "2021-09-30T06:27:03.138Z"
   },
   {
    "duration": 6,
    "start_time": "2021-09-30T06:27:03.845Z"
   },
   {
    "duration": 764,
    "start_time": "2021-09-30T06:27:03.868Z"
   },
   {
    "duration": 6,
    "start_time": "2021-09-30T06:27:04.635Z"
   },
   {
    "duration": 48,
    "start_time": "2021-09-30T06:27:04.644Z"
   },
   {
    "duration": 15,
    "start_time": "2021-09-30T06:27:04.695Z"
   },
   {
    "duration": 14,
    "start_time": "2021-09-30T06:27:04.713Z"
   },
   {
    "duration": 57,
    "start_time": "2021-09-30T06:27:04.729Z"
   },
   {
    "duration": 23,
    "start_time": "2021-09-30T06:27:04.789Z"
   },
   {
    "duration": 1081,
    "start_time": "2021-10-15T12:30:33.071Z"
   },
   {
    "duration": 235,
    "start_time": "2021-10-15T12:30:34.154Z"
   },
   {
    "duration": 11,
    "start_time": "2021-10-15T12:30:34.391Z"
   },
   {
    "duration": 15,
    "start_time": "2021-10-15T12:30:34.404Z"
   },
   {
    "duration": 628,
    "start_time": "2021-10-15T12:30:34.421Z"
   },
   {
    "duration": 2,
    "start_time": "2021-10-15T12:30:35.051Z"
   },
   {
    "duration": 17,
    "start_time": "2021-10-15T12:30:35.055Z"
   },
   {
    "duration": 12,
    "start_time": "2021-10-15T12:30:35.074Z"
   },
   {
    "duration": 16,
    "start_time": "2021-10-15T12:30:35.088Z"
   },
   {
    "duration": 11,
    "start_time": "2021-10-15T12:30:35.105Z"
   },
   {
    "duration": 29,
    "start_time": "2021-10-15T12:30:35.118Z"
   },
   {
    "duration": 5,
    "start_time": "2021-10-15T12:30:35.148Z"
   },
   {
    "duration": 30,
    "start_time": "2021-10-15T12:30:35.154Z"
   },
   {
    "duration": 5,
    "start_time": "2021-10-15T12:30:35.185Z"
   },
   {
    "duration": 7,
    "start_time": "2021-10-15T12:30:35.191Z"
   },
   {
    "duration": 12,
    "start_time": "2021-10-15T12:30:35.200Z"
   },
   {
    "duration": 15,
    "start_time": "2021-10-15T12:30:35.214Z"
   },
   {
    "duration": 14,
    "start_time": "2021-10-15T12:30:35.231Z"
   },
   {
    "duration": 6,
    "start_time": "2021-10-15T12:30:35.246Z"
   },
   {
    "duration": 5,
    "start_time": "2021-10-15T12:30:35.253Z"
   },
   {
    "duration": 344,
    "start_time": "2021-10-15T12:30:35.260Z"
   },
   {
    "duration": 460,
    "start_time": "2021-10-15T12:30:35.605Z"
   },
   {
    "duration": 444,
    "start_time": "2021-10-15T12:30:36.069Z"
   },
   {
    "duration": 420,
    "start_time": "2021-10-15T12:30:36.515Z"
   },
   {
    "duration": 487,
    "start_time": "2021-10-15T12:30:36.936Z"
   },
   {
    "duration": 455,
    "start_time": "2021-10-15T12:30:37.425Z"
   },
   {
    "duration": 103,
    "start_time": "2021-10-15T12:30:37.882Z"
   },
   {
    "duration": 414,
    "start_time": "2021-10-15T12:30:37.986Z"
   },
   {
    "duration": 4,
    "start_time": "2021-10-15T12:30:38.402Z"
   },
   {
    "duration": 502,
    "start_time": "2021-10-15T12:30:38.407Z"
   },
   {
    "duration": 4,
    "start_time": "2021-10-15T12:30:38.911Z"
   },
   {
    "duration": 35,
    "start_time": "2021-10-15T12:30:38.916Z"
   },
   {
    "duration": 9,
    "start_time": "2021-10-15T12:30:38.953Z"
   },
   {
    "duration": 8,
    "start_time": "2021-10-15T12:30:38.964Z"
   },
   {
    "duration": 18,
    "start_time": "2021-10-15T12:30:38.973Z"
   },
   {
    "duration": 15,
    "start_time": "2021-10-15T12:30:38.992Z"
   }
  ],
  "kernelspec": {
   "display_name": "Python 3",
   "language": "python",
   "name": "python3"
  },
  "language_info": {
   "codemirror_mode": {
    "name": "ipython",
    "version": 3
   },
   "file_extension": ".py",
   "mimetype": "text/x-python",
   "name": "python",
   "nbconvert_exporter": "python",
   "pygments_lexer": "ipython3",
   "version": "3.8.8"
  },
  "toc": {
   "base_numbering": 1,
   "nav_menu": {},
   "number_sections": true,
   "sideBar": true,
   "skip_h1_title": true,
   "title_cell": "Table of Contents",
   "title_sidebar": "Contents",
   "toc_cell": false,
   "toc_position": {},
   "toc_section_display": true,
   "toc_window_display": false
  }
 },
 "nbformat": 4,
 "nbformat_minor": 5
}
